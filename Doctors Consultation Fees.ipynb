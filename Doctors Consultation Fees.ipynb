{
 "cells": [
  {
   "cell_type": "markdown",
   "metadata": {},
   "source": [
    "# Prediction of Doctor's Consultation Fee :\n",
    "\n",
    "\n",
    "## Information about dataset :\n",
    "\n",
    "FEATURES:\n",
    "\n",
    "\n",
    "Qualification: Qualification and degrees held by the doctor\n",
    "\n",
    "\n",
    "Experience: Experience of the doctor in number of years\n",
    "\n",
    "\n",
    "Rating: Rating given by patients\n",
    "\n",
    "\n",
    "Profile: Type of the doctor\n",
    "\n",
    "\n",
    "Miscellaeous_Info: Extra information about the doctor\n",
    "\n",
    "\n",
    "Place: Area and the city where the doctor is located.\n",
    "\n",
    "\n",
    "Fees: Fees charged by the doctor (Target)\n",
    "\n",
    "### Importing Required library"
   ]
  },
  {
   "cell_type": "code",
   "execution_count": 1,
   "metadata": {},
   "outputs": [],
   "source": [
    "import numpy as np \n",
    "import pandas as pd \n",
    "import seaborn as sns\n",
    "import matplotlib.pyplot as plt\n",
    "\n",
    "import warnings\n",
    "warnings.filterwarnings('ignore')"
   ]
  },
  {
   "cell_type": "markdown",
   "metadata": {},
   "source": [
    "### Importing Dataset\n",
    "\n",
    "As our data is in excel format so we will use pd.read_excel function for get the data."
   ]
  },
  {
   "cell_type": "code",
   "execution_count": 2,
   "metadata": {},
   "outputs": [],
   "source": [
    "doc_train = pd.read_excel(\"Final_Train.xlsx\")\n",
    "doc_test = pd.read_excel(\"Final_Test.xlsx\")"
   ]
  },
  {
   "cell_type": "code",
   "execution_count": 3,
   "metadata": {},
   "outputs": [
    {
     "data": {
      "text/html": [
       "<div>\n",
       "<style scoped>\n",
       "    .dataframe tbody tr th:only-of-type {\n",
       "        vertical-align: middle;\n",
       "    }\n",
       "\n",
       "    .dataframe tbody tr th {\n",
       "        vertical-align: top;\n",
       "    }\n",
       "\n",
       "    .dataframe thead th {\n",
       "        text-align: right;\n",
       "    }\n",
       "</style>\n",
       "<table border=\"1\" class=\"dataframe\">\n",
       "  <thead>\n",
       "    <tr style=\"text-align: right;\">\n",
       "      <th></th>\n",
       "      <th>Qualification</th>\n",
       "      <th>Experience</th>\n",
       "      <th>Rating</th>\n",
       "      <th>Place</th>\n",
       "      <th>Profile</th>\n",
       "      <th>Miscellaneous_Info</th>\n",
       "      <th>Fees</th>\n",
       "    </tr>\n",
       "  </thead>\n",
       "  <tbody>\n",
       "    <tr>\n",
       "      <th>0</th>\n",
       "      <td>BHMS, MD - Homeopathy</td>\n",
       "      <td>24 years experience</td>\n",
       "      <td>100%</td>\n",
       "      <td>Kakkanad, Ernakulam</td>\n",
       "      <td>Homeopath</td>\n",
       "      <td>100% 16 Feedback Kakkanad, Ernakulam</td>\n",
       "      <td>100</td>\n",
       "    </tr>\n",
       "    <tr>\n",
       "      <th>1</th>\n",
       "      <td>BAMS, MD - Ayurveda Medicine</td>\n",
       "      <td>12 years experience</td>\n",
       "      <td>98%</td>\n",
       "      <td>Whitefield, Bangalore</td>\n",
       "      <td>Ayurveda</td>\n",
       "      <td>98% 76 Feedback Whitefield, Bangalore</td>\n",
       "      <td>350</td>\n",
       "    </tr>\n",
       "    <tr>\n",
       "      <th>2</th>\n",
       "      <td>MBBS, MS - Otorhinolaryngology</td>\n",
       "      <td>9 years experience</td>\n",
       "      <td>NaN</td>\n",
       "      <td>Mathikere - BEL, Bangalore</td>\n",
       "      <td>ENT Specialist</td>\n",
       "      <td>NaN</td>\n",
       "      <td>300</td>\n",
       "    </tr>\n",
       "    <tr>\n",
       "      <th>3</th>\n",
       "      <td>BSc - Zoology, BAMS</td>\n",
       "      <td>12 years experience</td>\n",
       "      <td>NaN</td>\n",
       "      <td>Bannerghatta Road, Bangalore</td>\n",
       "      <td>Ayurveda</td>\n",
       "      <td>Bannerghatta Road, Bangalore ₹250 Available on...</td>\n",
       "      <td>250</td>\n",
       "    </tr>\n",
       "    <tr>\n",
       "      <th>4</th>\n",
       "      <td>BAMS</td>\n",
       "      <td>20 years experience</td>\n",
       "      <td>100%</td>\n",
       "      <td>Keelkattalai, Chennai</td>\n",
       "      <td>Ayurveda</td>\n",
       "      <td>100% 4 Feedback Keelkattalai, Chennai</td>\n",
       "      <td>250</td>\n",
       "    </tr>\n",
       "  </tbody>\n",
       "</table>\n",
       "</div>"
      ],
      "text/plain": [
       "                    Qualification           Experience Rating  \\\n",
       "0           BHMS, MD - Homeopathy  24 years experience   100%   \n",
       "1    BAMS, MD - Ayurveda Medicine  12 years experience    98%   \n",
       "2  MBBS, MS - Otorhinolaryngology   9 years experience    NaN   \n",
       "3             BSc - Zoology, BAMS  12 years experience    NaN   \n",
       "4                            BAMS  20 years experience   100%   \n",
       "\n",
       "                          Place         Profile  \\\n",
       "0           Kakkanad, Ernakulam       Homeopath   \n",
       "1         Whitefield, Bangalore        Ayurveda   \n",
       "2    Mathikere - BEL, Bangalore  ENT Specialist   \n",
       "3  Bannerghatta Road, Bangalore        Ayurveda   \n",
       "4         Keelkattalai, Chennai        Ayurveda   \n",
       "\n",
       "                                  Miscellaneous_Info  Fees  \n",
       "0               100% 16 Feedback Kakkanad, Ernakulam   100  \n",
       "1              98% 76 Feedback Whitefield, Bangalore   350  \n",
       "2                                                NaN   300  \n",
       "3  Bannerghatta Road, Bangalore ₹250 Available on...   250  \n",
       "4              100% 4 Feedback Keelkattalai, Chennai   250  "
      ]
     },
     "execution_count": 3,
     "metadata": {},
     "output_type": "execute_result"
    }
   ],
   "source": [
    "doc_train.head()"
   ]
  },
  {
   "cell_type": "code",
   "execution_count": 4,
   "metadata": {},
   "outputs": [
    {
     "data": {
      "text/html": [
       "<div>\n",
       "<style scoped>\n",
       "    .dataframe tbody tr th:only-of-type {\n",
       "        vertical-align: middle;\n",
       "    }\n",
       "\n",
       "    .dataframe tbody tr th {\n",
       "        vertical-align: top;\n",
       "    }\n",
       "\n",
       "    .dataframe thead th {\n",
       "        text-align: right;\n",
       "    }\n",
       "</style>\n",
       "<table border=\"1\" class=\"dataframe\">\n",
       "  <thead>\n",
       "    <tr style=\"text-align: right;\">\n",
       "      <th></th>\n",
       "      <th>Qualification</th>\n",
       "      <th>Experience</th>\n",
       "      <th>Rating</th>\n",
       "      <th>Place</th>\n",
       "      <th>Profile</th>\n",
       "      <th>Miscellaneous_Info</th>\n",
       "    </tr>\n",
       "  </thead>\n",
       "  <tbody>\n",
       "    <tr>\n",
       "      <th>0</th>\n",
       "      <td>MBBS</td>\n",
       "      <td>35 years experience</td>\n",
       "      <td>NaN</td>\n",
       "      <td>Ghatkopar East, Mumbai</td>\n",
       "      <td>General Medicine</td>\n",
       "      <td>NaN</td>\n",
       "    </tr>\n",
       "    <tr>\n",
       "      <th>1</th>\n",
       "      <td>MBBS, Diploma in Otorhinolaryngology (DLO)</td>\n",
       "      <td>31 years experience</td>\n",
       "      <td>NaN</td>\n",
       "      <td>West Marredpally, Hyderabad</td>\n",
       "      <td>ENT Specialist</td>\n",
       "      <td>NaN</td>\n",
       "    </tr>\n",
       "    <tr>\n",
       "      <th>2</th>\n",
       "      <td>MBBS, DDVL</td>\n",
       "      <td>40 years experience</td>\n",
       "      <td>70%</td>\n",
       "      <td>KK Nagar, Chennai</td>\n",
       "      <td>Dermatologists</td>\n",
       "      <td>70% 4 Feedback KK Nagar, Chennai</td>\n",
       "    </tr>\n",
       "    <tr>\n",
       "      <th>3</th>\n",
       "      <td>BAMS</td>\n",
       "      <td>0 years experience</td>\n",
       "      <td>NaN</td>\n",
       "      <td>New Ashok Nagar, Delhi</td>\n",
       "      <td>Ayurveda</td>\n",
       "      <td>NaN</td>\n",
       "    </tr>\n",
       "    <tr>\n",
       "      <th>4</th>\n",
       "      <td>BDS, MDS - Conservative Dentistry &amp; Endodontics</td>\n",
       "      <td>16 years experience</td>\n",
       "      <td>100%</td>\n",
       "      <td>Kanakpura Road, Bangalore</td>\n",
       "      <td>Dentist</td>\n",
       "      <td>General Dentistry Conservative Dentistry Cosme...</td>\n",
       "    </tr>\n",
       "  </tbody>\n",
       "</table>\n",
       "</div>"
      ],
      "text/plain": [
       "                                     Qualification           Experience  \\\n",
       "0                                             MBBS  35 years experience   \n",
       "1       MBBS, Diploma in Otorhinolaryngology (DLO)  31 years experience   \n",
       "2                                       MBBS, DDVL  40 years experience   \n",
       "3                                             BAMS   0 years experience   \n",
       "4  BDS, MDS - Conservative Dentistry & Endodontics  16 years experience   \n",
       "\n",
       "  Rating                        Place           Profile  \\\n",
       "0    NaN       Ghatkopar East, Mumbai  General Medicine   \n",
       "1    NaN  West Marredpally, Hyderabad    ENT Specialist   \n",
       "2    70%            KK Nagar, Chennai    Dermatologists   \n",
       "3    NaN       New Ashok Nagar, Delhi          Ayurveda   \n",
       "4   100%    Kanakpura Road, Bangalore           Dentist   \n",
       "\n",
       "                                  Miscellaneous_Info  \n",
       "0                                                NaN  \n",
       "1                                                NaN  \n",
       "2                   70% 4 Feedback KK Nagar, Chennai  \n",
       "3                                                NaN  \n",
       "4  General Dentistry Conservative Dentistry Cosme...  "
      ]
     },
     "execution_count": 4,
     "metadata": {},
     "output_type": "execute_result"
    }
   ],
   "source": [
    "doc_test.head()"
   ]
  },
  {
   "cell_type": "code",
   "execution_count": 5,
   "metadata": {},
   "outputs": [
    {
     "data": {
      "text/plain": [
       "((5961, 7), (1987, 6))"
      ]
     },
     "execution_count": 5,
     "metadata": {},
     "output_type": "execute_result"
    }
   ],
   "source": [
    "doc_train.shape , doc_test.shape"
   ]
  },
  {
   "cell_type": "markdown",
   "metadata": {},
   "source": [
    "### Data Preprocessing"
   ]
  },
  {
   "cell_type": "code",
   "execution_count": 6,
   "metadata": {},
   "outputs": [
    {
     "name": "stdout",
     "output_type": "stream",
     "text": [
      "<class 'pandas.core.frame.DataFrame'>\n",
      "RangeIndex: 5961 entries, 0 to 5960\n",
      "Data columns (total 7 columns):\n",
      " #   Column              Non-Null Count  Dtype \n",
      "---  ------              --------------  ----- \n",
      " 0   Qualification       5961 non-null   object\n",
      " 1   Experience          5961 non-null   object\n",
      " 2   Rating              2659 non-null   object\n",
      " 3   Place               5936 non-null   object\n",
      " 4   Profile             5961 non-null   object\n",
      " 5   Miscellaneous_Info  3341 non-null   object\n",
      " 6   Fees                5961 non-null   int64 \n",
      "dtypes: int64(1), object(6)\n",
      "memory usage: 326.1+ KB\n"
     ]
    }
   ],
   "source": [
    "doc_train.info()"
   ]
  },
  {
   "cell_type": "code",
   "execution_count": 7,
   "metadata": {},
   "outputs": [
    {
     "name": "stdout",
     "output_type": "stream",
     "text": [
      "<class 'pandas.core.frame.DataFrame'>\n",
      "RangeIndex: 1987 entries, 0 to 1986\n",
      "Data columns (total 6 columns):\n",
      " #   Column              Non-Null Count  Dtype \n",
      "---  ------              --------------  ----- \n",
      " 0   Qualification       1987 non-null   object\n",
      " 1   Experience          1987 non-null   object\n",
      " 2   Rating              897 non-null    object\n",
      " 3   Place               1981 non-null   object\n",
      " 4   Profile             1987 non-null   object\n",
      " 5   Miscellaneous_Info  1153 non-null   object\n",
      "dtypes: object(6)\n",
      "memory usage: 93.3+ KB\n"
     ]
    }
   ],
   "source": [
    "doc_test.info()"
   ]
  },
  {
   "cell_type": "code",
   "execution_count": 8,
   "metadata": {},
   "outputs": [
    {
     "data": {
      "text/plain": [
       "Qualification         object\n",
       "Experience            object\n",
       "Rating                object\n",
       "Place                 object\n",
       "Profile               object\n",
       "Miscellaneous_Info    object\n",
       "Fees                   int64\n",
       "dtype: object"
      ]
     },
     "execution_count": 8,
     "metadata": {},
     "output_type": "execute_result"
    }
   ],
   "source": [
    "doc_train.dtypes"
   ]
  },
  {
   "cell_type": "code",
   "execution_count": 9,
   "metadata": {},
   "outputs": [
    {
     "data": {
      "text/plain": [
       "Qualification         object\n",
       "Experience            object\n",
       "Rating                object\n",
       "Place                 object\n",
       "Profile               object\n",
       "Miscellaneous_Info    object\n",
       "dtype: object"
      ]
     },
     "execution_count": 9,
     "metadata": {},
     "output_type": "execute_result"
    }
   ],
   "source": [
    "doc_test.dtypes"
   ]
  },
  {
   "cell_type": "markdown",
   "metadata": {},
   "source": [
    "Except the target variable all our data is in catagorical form of data, so before going forward we need to convert it into numerical form."
   ]
  },
  {
   "cell_type": "code",
   "execution_count": 10,
   "metadata": {},
   "outputs": [
    {
     "data": {
      "text/plain": [
       "Qualification            0\n",
       "Experience               0\n",
       "Rating                3302\n",
       "Place                   25\n",
       "Profile                  0\n",
       "Miscellaneous_Info    2620\n",
       "Fees                     0\n",
       "dtype: int64"
      ]
     },
     "execution_count": 10,
     "metadata": {},
     "output_type": "execute_result"
    }
   ],
   "source": [
    "doc_train.isnull().sum()"
   ]
  },
  {
   "cell_type": "markdown",
   "metadata": {},
   "source": [
    "As we can see there are many null values present in our dataset.\n",
    "\n",
    "So here we have 3302 null values present in Rating column, 25 in place, and 2620 null values under Miscellaneous_Info.\n",
    "\n",
    "###### Place"
   ]
  },
  {
   "cell_type": "code",
   "execution_count": 11,
   "metadata": {},
   "outputs": [],
   "source": [
    "doc_train.Place.fillna('none,none',inplace=True)\n",
    "\n",
    "doc_train['location'] = doc_train['Place'].str.split(\",\").str[0]\n",
    "doc_train['city'] = doc_train['Place'].str.split(\",\").str[1]\n",
    "\n"
   ]
  },
  {
   "cell_type": "code",
   "execution_count": 12,
   "metadata": {},
   "outputs": [
    {
     "data": {
      "text/html": [
       "<div>\n",
       "<style scoped>\n",
       "    .dataframe tbody tr th:only-of-type {\n",
       "        vertical-align: middle;\n",
       "    }\n",
       "\n",
       "    .dataframe tbody tr th {\n",
       "        vertical-align: top;\n",
       "    }\n",
       "\n",
       "    .dataframe thead th {\n",
       "        text-align: right;\n",
       "    }\n",
       "</style>\n",
       "<table border=\"1\" class=\"dataframe\">\n",
       "  <thead>\n",
       "    <tr style=\"text-align: right;\">\n",
       "      <th></th>\n",
       "      <th>Qualification</th>\n",
       "      <th>Experience</th>\n",
       "      <th>Rating</th>\n",
       "      <th>Place</th>\n",
       "      <th>Profile</th>\n",
       "      <th>Miscellaneous_Info</th>\n",
       "      <th>Fees</th>\n",
       "      <th>location</th>\n",
       "      <th>city</th>\n",
       "    </tr>\n",
       "  </thead>\n",
       "  <tbody>\n",
       "    <tr>\n",
       "      <th>0</th>\n",
       "      <td>BHMS, MD - Homeopathy</td>\n",
       "      <td>24 years experience</td>\n",
       "      <td>100%</td>\n",
       "      <td>Kakkanad, Ernakulam</td>\n",
       "      <td>Homeopath</td>\n",
       "      <td>100% 16 Feedback Kakkanad, Ernakulam</td>\n",
       "      <td>100</td>\n",
       "      <td>Kakkanad</td>\n",
       "      <td>Ernakulam</td>\n",
       "    </tr>\n",
       "    <tr>\n",
       "      <th>1</th>\n",
       "      <td>BAMS, MD - Ayurveda Medicine</td>\n",
       "      <td>12 years experience</td>\n",
       "      <td>98%</td>\n",
       "      <td>Whitefield, Bangalore</td>\n",
       "      <td>Ayurveda</td>\n",
       "      <td>98% 76 Feedback Whitefield, Bangalore</td>\n",
       "      <td>350</td>\n",
       "      <td>Whitefield</td>\n",
       "      <td>Bangalore</td>\n",
       "    </tr>\n",
       "    <tr>\n",
       "      <th>2</th>\n",
       "      <td>MBBS, MS - Otorhinolaryngology</td>\n",
       "      <td>9 years experience</td>\n",
       "      <td>NaN</td>\n",
       "      <td>Mathikere - BEL, Bangalore</td>\n",
       "      <td>ENT Specialist</td>\n",
       "      <td>NaN</td>\n",
       "      <td>300</td>\n",
       "      <td>Mathikere - BEL</td>\n",
       "      <td>Bangalore</td>\n",
       "    </tr>\n",
       "    <tr>\n",
       "      <th>3</th>\n",
       "      <td>BSc - Zoology, BAMS</td>\n",
       "      <td>12 years experience</td>\n",
       "      <td>NaN</td>\n",
       "      <td>Bannerghatta Road, Bangalore</td>\n",
       "      <td>Ayurveda</td>\n",
       "      <td>Bannerghatta Road, Bangalore ₹250 Available on...</td>\n",
       "      <td>250</td>\n",
       "      <td>Bannerghatta Road</td>\n",
       "      <td>Bangalore</td>\n",
       "    </tr>\n",
       "    <tr>\n",
       "      <th>4</th>\n",
       "      <td>BAMS</td>\n",
       "      <td>20 years experience</td>\n",
       "      <td>100%</td>\n",
       "      <td>Keelkattalai, Chennai</td>\n",
       "      <td>Ayurveda</td>\n",
       "      <td>100% 4 Feedback Keelkattalai, Chennai</td>\n",
       "      <td>250</td>\n",
       "      <td>Keelkattalai</td>\n",
       "      <td>Chennai</td>\n",
       "    </tr>\n",
       "  </tbody>\n",
       "</table>\n",
       "</div>"
      ],
      "text/plain": [
       "                    Qualification           Experience Rating  \\\n",
       "0           BHMS, MD - Homeopathy  24 years experience   100%   \n",
       "1    BAMS, MD - Ayurveda Medicine  12 years experience    98%   \n",
       "2  MBBS, MS - Otorhinolaryngology   9 years experience    NaN   \n",
       "3             BSc - Zoology, BAMS  12 years experience    NaN   \n",
       "4                            BAMS  20 years experience   100%   \n",
       "\n",
       "                          Place         Profile  \\\n",
       "0           Kakkanad, Ernakulam       Homeopath   \n",
       "1         Whitefield, Bangalore        Ayurveda   \n",
       "2    Mathikere - BEL, Bangalore  ENT Specialist   \n",
       "3  Bannerghatta Road, Bangalore        Ayurveda   \n",
       "4         Keelkattalai, Chennai        Ayurveda   \n",
       "\n",
       "                                  Miscellaneous_Info  Fees           location  \\\n",
       "0               100% 16 Feedback Kakkanad, Ernakulam   100           Kakkanad   \n",
       "1              98% 76 Feedback Whitefield, Bangalore   350         Whitefield   \n",
       "2                                                NaN   300    Mathikere - BEL   \n",
       "3  Bannerghatta Road, Bangalore ₹250 Available on...   250  Bannerghatta Road   \n",
       "4              100% 4 Feedback Keelkattalai, Chennai   250       Keelkattalai   \n",
       "\n",
       "         city  \n",
       "0   Ernakulam  \n",
       "1   Bangalore  \n",
       "2   Bangalore  \n",
       "3   Bangalore  \n",
       "4     Chennai  "
      ]
     },
     "execution_count": 12,
     "metadata": {},
     "output_type": "execute_result"
    }
   ],
   "source": [
    "doc_train.head()"
   ]
  },
  {
   "cell_type": "code",
   "execution_count": 13,
   "metadata": {},
   "outputs": [],
   "source": [
    "#Now we can drop the place variable\n",
    "doc_train.drop('Place',axis=1,inplace=True)"
   ]
  },
  {
   "cell_type": "code",
   "execution_count": 14,
   "metadata": {},
   "outputs": [
    {
     "data": {
      "text/html": [
       "<div>\n",
       "<style scoped>\n",
       "    .dataframe tbody tr th:only-of-type {\n",
       "        vertical-align: middle;\n",
       "    }\n",
       "\n",
       "    .dataframe tbody tr th {\n",
       "        vertical-align: top;\n",
       "    }\n",
       "\n",
       "    .dataframe thead th {\n",
       "        text-align: right;\n",
       "    }\n",
       "</style>\n",
       "<table border=\"1\" class=\"dataframe\">\n",
       "  <thead>\n",
       "    <tr style=\"text-align: right;\">\n",
       "      <th></th>\n",
       "      <th>Qualification</th>\n",
       "      <th>Experience</th>\n",
       "      <th>Rating</th>\n",
       "      <th>Profile</th>\n",
       "      <th>Miscellaneous_Info</th>\n",
       "      <th>Fees</th>\n",
       "      <th>location</th>\n",
       "      <th>city</th>\n",
       "    </tr>\n",
       "  </thead>\n",
       "  <tbody>\n",
       "    <tr>\n",
       "      <th>0</th>\n",
       "      <td>BHMS, MD - Homeopathy</td>\n",
       "      <td>24 years experience</td>\n",
       "      <td>100%</td>\n",
       "      <td>Homeopath</td>\n",
       "      <td>100% 16 Feedback Kakkanad, Ernakulam</td>\n",
       "      <td>100</td>\n",
       "      <td>Kakkanad</td>\n",
       "      <td>Ernakulam</td>\n",
       "    </tr>\n",
       "    <tr>\n",
       "      <th>1</th>\n",
       "      <td>BAMS, MD - Ayurveda Medicine</td>\n",
       "      <td>12 years experience</td>\n",
       "      <td>98%</td>\n",
       "      <td>Ayurveda</td>\n",
       "      <td>98% 76 Feedback Whitefield, Bangalore</td>\n",
       "      <td>350</td>\n",
       "      <td>Whitefield</td>\n",
       "      <td>Bangalore</td>\n",
       "    </tr>\n",
       "    <tr>\n",
       "      <th>2</th>\n",
       "      <td>MBBS, MS - Otorhinolaryngology</td>\n",
       "      <td>9 years experience</td>\n",
       "      <td>NaN</td>\n",
       "      <td>ENT Specialist</td>\n",
       "      <td>NaN</td>\n",
       "      <td>300</td>\n",
       "      <td>Mathikere - BEL</td>\n",
       "      <td>Bangalore</td>\n",
       "    </tr>\n",
       "    <tr>\n",
       "      <th>3</th>\n",
       "      <td>BSc - Zoology, BAMS</td>\n",
       "      <td>12 years experience</td>\n",
       "      <td>NaN</td>\n",
       "      <td>Ayurveda</td>\n",
       "      <td>Bannerghatta Road, Bangalore ₹250 Available on...</td>\n",
       "      <td>250</td>\n",
       "      <td>Bannerghatta Road</td>\n",
       "      <td>Bangalore</td>\n",
       "    </tr>\n",
       "    <tr>\n",
       "      <th>4</th>\n",
       "      <td>BAMS</td>\n",
       "      <td>20 years experience</td>\n",
       "      <td>100%</td>\n",
       "      <td>Ayurveda</td>\n",
       "      <td>100% 4 Feedback Keelkattalai, Chennai</td>\n",
       "      <td>250</td>\n",
       "      <td>Keelkattalai</td>\n",
       "      <td>Chennai</td>\n",
       "    </tr>\n",
       "  </tbody>\n",
       "</table>\n",
       "</div>"
      ],
      "text/plain": [
       "                    Qualification           Experience Rating         Profile  \\\n",
       "0           BHMS, MD - Homeopathy  24 years experience   100%       Homeopath   \n",
       "1    BAMS, MD - Ayurveda Medicine  12 years experience    98%        Ayurveda   \n",
       "2  MBBS, MS - Otorhinolaryngology   9 years experience    NaN  ENT Specialist   \n",
       "3             BSc - Zoology, BAMS  12 years experience    NaN        Ayurveda   \n",
       "4                            BAMS  20 years experience   100%        Ayurveda   \n",
       "\n",
       "                                  Miscellaneous_Info  Fees           location  \\\n",
       "0               100% 16 Feedback Kakkanad, Ernakulam   100           Kakkanad   \n",
       "1              98% 76 Feedback Whitefield, Bangalore   350         Whitefield   \n",
       "2                                                NaN   300    Mathikere - BEL   \n",
       "3  Bannerghatta Road, Bangalore ₹250 Available on...   250  Bannerghatta Road   \n",
       "4              100% 4 Feedback Keelkattalai, Chennai   250       Keelkattalai   \n",
       "\n",
       "         city  \n",
       "0   Ernakulam  \n",
       "1   Bangalore  \n",
       "2   Bangalore  \n",
       "3   Bangalore  \n",
       "4     Chennai  "
      ]
     },
     "execution_count": 14,
     "metadata": {},
     "output_type": "execute_result"
    }
   ],
   "source": [
    "doc_train.head()"
   ]
  },
  {
   "cell_type": "markdown",
   "metadata": {},
   "source": [
    "###### Experience"
   ]
  },
  {
   "cell_type": "code",
   "execution_count": 15,
   "metadata": {},
   "outputs": [],
   "source": [
    "doc_train['Experience'] = doc_train['Experience'].str.split().str[0]\n",
    "doc_train['Experience'] = doc_train['Experience'].astype(int)\n"
   ]
  },
  {
   "cell_type": "code",
   "execution_count": 16,
   "metadata": {},
   "outputs": [
    {
     "data": {
      "text/html": [
       "<div>\n",
       "<style scoped>\n",
       "    .dataframe tbody tr th:only-of-type {\n",
       "        vertical-align: middle;\n",
       "    }\n",
       "\n",
       "    .dataframe tbody tr th {\n",
       "        vertical-align: top;\n",
       "    }\n",
       "\n",
       "    .dataframe thead th {\n",
       "        text-align: right;\n",
       "    }\n",
       "</style>\n",
       "<table border=\"1\" class=\"dataframe\">\n",
       "  <thead>\n",
       "    <tr style=\"text-align: right;\">\n",
       "      <th></th>\n",
       "      <th>Qualification</th>\n",
       "      <th>Experience</th>\n",
       "      <th>Rating</th>\n",
       "      <th>Profile</th>\n",
       "      <th>Miscellaneous_Info</th>\n",
       "      <th>Fees</th>\n",
       "      <th>location</th>\n",
       "      <th>city</th>\n",
       "    </tr>\n",
       "  </thead>\n",
       "  <tbody>\n",
       "    <tr>\n",
       "      <th>0</th>\n",
       "      <td>BHMS, MD - Homeopathy</td>\n",
       "      <td>24</td>\n",
       "      <td>100%</td>\n",
       "      <td>Homeopath</td>\n",
       "      <td>100% 16 Feedback Kakkanad, Ernakulam</td>\n",
       "      <td>100</td>\n",
       "      <td>Kakkanad</td>\n",
       "      <td>Ernakulam</td>\n",
       "    </tr>\n",
       "    <tr>\n",
       "      <th>1</th>\n",
       "      <td>BAMS, MD - Ayurveda Medicine</td>\n",
       "      <td>12</td>\n",
       "      <td>98%</td>\n",
       "      <td>Ayurveda</td>\n",
       "      <td>98% 76 Feedback Whitefield, Bangalore</td>\n",
       "      <td>350</td>\n",
       "      <td>Whitefield</td>\n",
       "      <td>Bangalore</td>\n",
       "    </tr>\n",
       "  </tbody>\n",
       "</table>\n",
       "</div>"
      ],
      "text/plain": [
       "                  Qualification  Experience Rating    Profile  \\\n",
       "0         BHMS, MD - Homeopathy          24   100%  Homeopath   \n",
       "1  BAMS, MD - Ayurveda Medicine          12    98%   Ayurveda   \n",
       "\n",
       "                      Miscellaneous_Info  Fees    location        city  \n",
       "0   100% 16 Feedback Kakkanad, Ernakulam   100    Kakkanad   Ernakulam  \n",
       "1  98% 76 Feedback Whitefield, Bangalore   350  Whitefield   Bangalore  "
      ]
     },
     "execution_count": 16,
     "metadata": {},
     "output_type": "execute_result"
    }
   ],
   "source": [
    "doc_train.head(2)"
   ]
  },
  {
   "cell_type": "markdown",
   "metadata": {},
   "source": [
    "###### Rating"
   ]
  },
  {
   "cell_type": "code",
   "execution_count": 17,
   "metadata": {},
   "outputs": [],
   "source": [
    "doc_train['Rating'].fillna('-99%', inplace=True)\n",
    "\n",
    "# extract value of rating to avoid '%' and convert to numeric\n",
    "doc_train['Rating'] = doc_train['Rating'].str.slice(stop=-1).astype(int)"
   ]
  },
  {
   "cell_type": "code",
   "execution_count": 18,
   "metadata": {},
   "outputs": [
    {
     "name": "stdout",
     "output_type": "stream",
     "text": [
      "0-10%  1\n",
      "11-20%  0\n",
      "21-30%  0\n",
      "31-40%  4\n",
      "And so-on..\n"
     ]
    }
   ],
   "source": [
    "print(\"0-10% \",len(doc_train[(doc_train['Rating']>0) & (doc_train['Rating']<=10)]))\n",
    "print(\"11-20% \",len(doc_train[(doc_train['Rating']>10) & (doc_train['Rating']<=20)]))\n",
    "print(\"21-30% \",len(doc_train[(doc_train['Rating']>20) & (doc_train['Rating']<=30)]))\n",
    "print(\"31-40% \",len(doc_train[(doc_train['Rating']>30) & (doc_train['Rating']<=40)]))\n",
    "print(\"And so-on..\")"
   ]
  },
  {
   "cell_type": "code",
   "execution_count": 19,
   "metadata": {},
   "outputs": [],
   "source": [
    "bins = [-99,0,10,20,30,40,50,60,70,80,90,100]\n",
    "labels = [i for i in range(11)]\n",
    "doc_train['Rating'] = pd.cut(doc_train['Rating'], bins=bins, labels=labels, include_lowest=True)\n"
   ]
  },
  {
   "cell_type": "code",
   "execution_count": 20,
   "metadata": {},
   "outputs": [
    {
     "data": {
      "text/plain": [
       "0     3302\n",
       "1        1\n",
       "2        0\n",
       "3        0\n",
       "4        4\n",
       "5        3\n",
       "6       19\n",
       "7       32\n",
       "8       98\n",
       "9      280\n",
       "10    2222\n",
       "Name: Rating, dtype: int64"
      ]
     },
     "execution_count": 20,
     "metadata": {},
     "output_type": "execute_result"
    }
   ],
   "source": [
    "doc_train['Rating'].value_counts().sort_index()"
   ]
  },
  {
   "cell_type": "code",
   "execution_count": 21,
   "metadata": {},
   "outputs": [
    {
     "data": {
      "text/html": [
       "<div>\n",
       "<style scoped>\n",
       "    .dataframe tbody tr th:only-of-type {\n",
       "        vertical-align: middle;\n",
       "    }\n",
       "\n",
       "    .dataframe tbody tr th {\n",
       "        vertical-align: top;\n",
       "    }\n",
       "\n",
       "    .dataframe thead th {\n",
       "        text-align: right;\n",
       "    }\n",
       "</style>\n",
       "<table border=\"1\" class=\"dataframe\">\n",
       "  <thead>\n",
       "    <tr style=\"text-align: right;\">\n",
       "      <th></th>\n",
       "      <th>Qualification</th>\n",
       "      <th>Experience</th>\n",
       "      <th>Rating</th>\n",
       "      <th>Profile</th>\n",
       "      <th>Miscellaneous_Info</th>\n",
       "      <th>Fees</th>\n",
       "      <th>location</th>\n",
       "      <th>city</th>\n",
       "    </tr>\n",
       "  </thead>\n",
       "  <tbody>\n",
       "    <tr>\n",
       "      <th>5956</th>\n",
       "      <td>MBBS, MS - ENT</td>\n",
       "      <td>19</td>\n",
       "      <td>10</td>\n",
       "      <td>ENT Specialist</td>\n",
       "      <td>98% 45 Feedback Basavanagudi, Bangalore</td>\n",
       "      <td>300</td>\n",
       "      <td>Basavanagudi</td>\n",
       "      <td>Bangalore</td>\n",
       "    </tr>\n",
       "    <tr>\n",
       "      <th>5957</th>\n",
       "      <td>MBBS</td>\n",
       "      <td>33</td>\n",
       "      <td>0</td>\n",
       "      <td>General Medicine</td>\n",
       "      <td>NaN</td>\n",
       "      <td>100</td>\n",
       "      <td>Nungambakkam</td>\n",
       "      <td>Chennai</td>\n",
       "    </tr>\n",
       "    <tr>\n",
       "      <th>5958</th>\n",
       "      <td>MBBS</td>\n",
       "      <td>41</td>\n",
       "      <td>10</td>\n",
       "      <td>General Medicine</td>\n",
       "      <td>97% 11 Feedback Greater Kailash Part 2, Delhi</td>\n",
       "      <td>600</td>\n",
       "      <td>Greater Kailash Part 2</td>\n",
       "      <td>Delhi</td>\n",
       "    </tr>\n",
       "    <tr>\n",
       "      <th>5959</th>\n",
       "      <td>MBBS, MD - General Medicine</td>\n",
       "      <td>15</td>\n",
       "      <td>9</td>\n",
       "      <td>General Medicine</td>\n",
       "      <td>General Medical Consultation Viral Fever Treat...</td>\n",
       "      <td>100</td>\n",
       "      <td>Vileparle West</td>\n",
       "      <td>Mumbai</td>\n",
       "    </tr>\n",
       "    <tr>\n",
       "      <th>5960</th>\n",
       "      <td>BDS, MDS - Orthodontics</td>\n",
       "      <td>17</td>\n",
       "      <td>10</td>\n",
       "      <td>Dentist</td>\n",
       "      <td>Acrylic Partial Denture Crowns and Bridges Fix...</td>\n",
       "      <td>200</td>\n",
       "      <td>Pitampura</td>\n",
       "      <td>Delhi</td>\n",
       "    </tr>\n",
       "  </tbody>\n",
       "</table>\n",
       "</div>"
      ],
      "text/plain": [
       "                    Qualification  Experience Rating           Profile  \\\n",
       "5956               MBBS, MS - ENT          19     10    ENT Specialist   \n",
       "5957                         MBBS          33      0  General Medicine   \n",
       "5958                         MBBS          41     10  General Medicine   \n",
       "5959  MBBS, MD - General Medicine          15      9  General Medicine   \n",
       "5960      BDS, MDS - Orthodontics          17     10           Dentist   \n",
       "\n",
       "                                     Miscellaneous_Info  Fees  \\\n",
       "5956            98% 45 Feedback Basavanagudi, Bangalore   300   \n",
       "5957                                                NaN   100   \n",
       "5958      97% 11 Feedback Greater Kailash Part 2, Delhi   600   \n",
       "5959  General Medical Consultation Viral Fever Treat...   100   \n",
       "5960  Acrylic Partial Denture Crowns and Bridges Fix...   200   \n",
       "\n",
       "                    location        city  \n",
       "5956            Basavanagudi   Bangalore  \n",
       "5957            Nungambakkam     Chennai  \n",
       "5958  Greater Kailash Part 2       Delhi  \n",
       "5959          Vileparle West      Mumbai  \n",
       "5960               Pitampura       Delhi  "
      ]
     },
     "execution_count": 21,
     "metadata": {},
     "output_type": "execute_result"
    }
   ],
   "source": [
    "doc_train.tail()"
   ]
  },
  {
   "cell_type": "markdown",
   "metadata": {},
   "source": [
    "###### Qualification"
   ]
  },
  {
   "cell_type": "code",
   "execution_count": 22,
   "metadata": {},
   "outputs": [
    {
     "data": {
      "text/plain": [
       "1420"
      ]
     },
     "execution_count": 22,
     "metadata": {},
     "output_type": "execute_result"
    }
   ],
   "source": [
    "doc_train['Qualification'].nunique()"
   ]
  },
  {
   "cell_type": "code",
   "execution_count": 23,
   "metadata": {},
   "outputs": [
    {
     "name": "stdout",
     "output_type": "stream",
     "text": [
      "0                BHMS, MD - Homeopathy\n",
      "1         BAMS, MD - Ayurveda Medicine\n",
      "2       MBBS, MS - Otorhinolaryngology\n",
      "3                  BSc - Zoology, BAMS\n",
      "4                                 BAMS\n",
      "                     ...              \n",
      "5956                    MBBS, MS - ENT\n",
      "5957                              MBBS\n",
      "5958                              MBBS\n",
      "5959       MBBS, MD - General Medicine\n",
      "5960           BDS, MDS - Orthodontics\n",
      "Name: Qualification, Length: 5961, dtype: object\n"
     ]
    }
   ],
   "source": [
    "print(doc_train['Qualification'])"
   ]
  },
  {
   "cell_type": "code",
   "execution_count": 24,
   "metadata": {},
   "outputs": [
    {
     "data": {
      "text/plain": [
       "BDS                                                      488\n",
       "BHMS                                                     477\n",
       "BAMS                                                     471\n",
       "MBBS                                                     334\n",
       "MBBS, MS - ENT                                           220\n",
       "MBBS, MD - Dermatology                                   178\n",
       "MBBS, MD - General Medicine                              177\n",
       "MBBS, MD - Dermatology , Venereology & Leprosy           140\n",
       "BHMS, MD - Homeopathy                                     93\n",
       "MBBS, DDVL                                                92\n",
       "MBBS, Diploma in Otorhinolaryngology (DLO)                84\n",
       "BAMS, MD - Ayurveda Medicine                              82\n",
       "BDS, MDS - Conservative Dentistry & Endodontics           68\n",
       "MBBS, DDV                                                 66\n",
       "BDS, MDS                                                  63\n",
       "BDS, MDS - Oral & Maxillofacial Surgery                   57\n",
       "MD - Dermatology , Venereology & Leprosy, MBBS            52\n",
       "BDS, MDS - Prosthodontics                                 45\n",
       "MBBS, MS - Otorhinolaryngology                            44\n",
       "MBBS, MD - Internal Medicine                              43\n",
       "BDS, MDS - Orthodontics                                   41\n",
       "MBBS, MD - Medicine                                       41\n",
       "MS - ENT, MBBS                                            37\n",
       "BDS, MDS - Paedodontics And Preventive Dentistry          32\n",
       "MBBS, Diploma in Dermatology                              31\n",
       "MD - Dermatology, MBBS                                    31\n",
       "BDS, MDS - Periodontology and Oral Implantology           29\n",
       "BDS, MDS - Orthodontics and Dentofacial Orthopaedics      29\n",
       "MBBS, Diploma in Otorhinolaryngology (DLO), DNB - ENT     27\n",
       "BDS, MDS - Pedodontics                                    25\n",
       "BDS, MDS - Prosthodontist And Crown Bridge                25\n",
       "BDS, MDS - Periodontics                                   24\n",
       "Get inspired by remarkable stories of people like you     24\n",
       "MBBS, Diploma in Otorhinolaryngology (DLO), MS - ENT      23\n",
       "MD - Homeopathy                                           21\n",
       "Name: Qualification, dtype: int64"
      ]
     },
     "execution_count": 24,
     "metadata": {},
     "output_type": "execute_result"
    }
   ],
   "source": [
    " doc_train['Qualification'].value_counts()[:35]"
   ]
  },
  {
   "cell_type": "markdown",
   "metadata": {},
   "source": [
    "MBBS,BDS,BAMS,MD,BHMS,Fellowship,DLO,MLO,DNB,DDVL,MS these qualifications are present in a very high number. \n",
    "So, we are going to add features of those and add values '1' or '0' as if they are present or not."
   ]
  },
  {
   "cell_type": "code",
   "execution_count": 25,
   "metadata": {},
   "outputs": [],
   "source": [
    "def fun(arr,string):\n",
    "  for data in dat:\n",
    "    if data.find(string) !=-1:\n",
    "      arr.append(int(1))\n",
    "    else :\n",
    "      arr.append(int(0))\n",
    "def to_df(lst):\n",
    "  lst=pd.DataFrame(lst)\n",
    "  return lst\n",
    "\n",
    "cols=['mbbs','bhms','bams','ddvl','dlo','mlo','dnb','bds','md','ms','fellowship']"
   ]
  },
  {
   "cell_type": "code",
   "execution_count": 26,
   "metadata": {},
   "outputs": [],
   "source": [
    "# doc_train1 = doc_train[\"Qualification\"]\n",
    "# doc_train1"
   ]
  },
  {
   "cell_type": "code",
   "execution_count": 27,
   "metadata": {},
   "outputs": [
    {
     "data": {
      "text/html": [
       "<div>\n",
       "<style scoped>\n",
       "    .dataframe tbody tr th:only-of-type {\n",
       "        vertical-align: middle;\n",
       "    }\n",
       "\n",
       "    .dataframe tbody tr th {\n",
       "        vertical-align: top;\n",
       "    }\n",
       "\n",
       "    .dataframe thead th {\n",
       "        text-align: right;\n",
       "    }\n",
       "</style>\n",
       "<table border=\"1\" class=\"dataframe\">\n",
       "  <thead>\n",
       "    <tr style=\"text-align: right;\">\n",
       "      <th></th>\n",
       "      <th>mbbs</th>\n",
       "      <th>bhms</th>\n",
       "      <th>bams</th>\n",
       "      <th>ddvl</th>\n",
       "      <th>dlo</th>\n",
       "      <th>mlo</th>\n",
       "      <th>dnb</th>\n",
       "      <th>bds</th>\n",
       "      <th>md</th>\n",
       "      <th>ms</th>\n",
       "      <th>fellowship</th>\n",
       "      <th>Experience</th>\n",
       "      <th>Rating</th>\n",
       "      <th>Profile</th>\n",
       "      <th>Miscellaneous_Info</th>\n",
       "      <th>Fees</th>\n",
       "      <th>location</th>\n",
       "      <th>city</th>\n",
       "    </tr>\n",
       "  </thead>\n",
       "  <tbody>\n",
       "    <tr>\n",
       "      <th>0</th>\n",
       "      <td>0</td>\n",
       "      <td>1</td>\n",
       "      <td>0</td>\n",
       "      <td>0</td>\n",
       "      <td>0</td>\n",
       "      <td>0</td>\n",
       "      <td>0</td>\n",
       "      <td>0</td>\n",
       "      <td>1</td>\n",
       "      <td>1</td>\n",
       "      <td>0</td>\n",
       "      <td>24</td>\n",
       "      <td>10</td>\n",
       "      <td>Homeopath</td>\n",
       "      <td>100% 16 Feedback Kakkanad, Ernakulam</td>\n",
       "      <td>100</td>\n",
       "      <td>Kakkanad</td>\n",
       "      <td>Ernakulam</td>\n",
       "    </tr>\n",
       "    <tr>\n",
       "      <th>1</th>\n",
       "      <td>0</td>\n",
       "      <td>0</td>\n",
       "      <td>1</td>\n",
       "      <td>0</td>\n",
       "      <td>0</td>\n",
       "      <td>0</td>\n",
       "      <td>0</td>\n",
       "      <td>0</td>\n",
       "      <td>1</td>\n",
       "      <td>1</td>\n",
       "      <td>0</td>\n",
       "      <td>12</td>\n",
       "      <td>10</td>\n",
       "      <td>Ayurveda</td>\n",
       "      <td>98% 76 Feedback Whitefield, Bangalore</td>\n",
       "      <td>350</td>\n",
       "      <td>Whitefield</td>\n",
       "      <td>Bangalore</td>\n",
       "    </tr>\n",
       "    <tr>\n",
       "      <th>2</th>\n",
       "      <td>1</td>\n",
       "      <td>0</td>\n",
       "      <td>0</td>\n",
       "      <td>0</td>\n",
       "      <td>0</td>\n",
       "      <td>0</td>\n",
       "      <td>0</td>\n",
       "      <td>0</td>\n",
       "      <td>0</td>\n",
       "      <td>1</td>\n",
       "      <td>0</td>\n",
       "      <td>9</td>\n",
       "      <td>0</td>\n",
       "      <td>ENT Specialist</td>\n",
       "      <td>NaN</td>\n",
       "      <td>300</td>\n",
       "      <td>Mathikere - BEL</td>\n",
       "      <td>Bangalore</td>\n",
       "    </tr>\n",
       "    <tr>\n",
       "      <th>3</th>\n",
       "      <td>0</td>\n",
       "      <td>0</td>\n",
       "      <td>1</td>\n",
       "      <td>0</td>\n",
       "      <td>0</td>\n",
       "      <td>0</td>\n",
       "      <td>0</td>\n",
       "      <td>0</td>\n",
       "      <td>0</td>\n",
       "      <td>1</td>\n",
       "      <td>0</td>\n",
       "      <td>12</td>\n",
       "      <td>0</td>\n",
       "      <td>Ayurveda</td>\n",
       "      <td>Bannerghatta Road, Bangalore ₹250 Available on...</td>\n",
       "      <td>250</td>\n",
       "      <td>Bannerghatta Road</td>\n",
       "      <td>Bangalore</td>\n",
       "    </tr>\n",
       "    <tr>\n",
       "      <th>4</th>\n",
       "      <td>0</td>\n",
       "      <td>0</td>\n",
       "      <td>1</td>\n",
       "      <td>0</td>\n",
       "      <td>0</td>\n",
       "      <td>0</td>\n",
       "      <td>0</td>\n",
       "      <td>0</td>\n",
       "      <td>0</td>\n",
       "      <td>1</td>\n",
       "      <td>0</td>\n",
       "      <td>20</td>\n",
       "      <td>10</td>\n",
       "      <td>Ayurveda</td>\n",
       "      <td>100% 4 Feedback Keelkattalai, Chennai</td>\n",
       "      <td>250</td>\n",
       "      <td>Keelkattalai</td>\n",
       "      <td>Chennai</td>\n",
       "    </tr>\n",
       "  </tbody>\n",
       "</table>\n",
       "</div>"
      ],
      "text/plain": [
       "   mbbs  bhms  bams  ddvl  dlo  mlo  dnb  bds  md  ms  fellowship  Experience  \\\n",
       "0     0     1     0     0    0    0    0    0   1   1           0          24   \n",
       "1     0     0     1     0    0    0    0    0   1   1           0          12   \n",
       "2     1     0     0     0    0    0    0    0   0   1           0           9   \n",
       "3     0     0     1     0    0    0    0    0   0   1           0          12   \n",
       "4     0     0     1     0    0    0    0    0   0   1           0          20   \n",
       "\n",
       "  Rating         Profile                                 Miscellaneous_Info  \\\n",
       "0     10       Homeopath               100% 16 Feedback Kakkanad, Ernakulam   \n",
       "1     10        Ayurveda              98% 76 Feedback Whitefield, Bangalore   \n",
       "2      0  ENT Specialist                                                NaN   \n",
       "3      0        Ayurveda  Bannerghatta Road, Bangalore ₹250 Available on...   \n",
       "4     10        Ayurveda              100% 4 Feedback Keelkattalai, Chennai   \n",
       "\n",
       "   Fees           location        city  \n",
       "0   100           Kakkanad   Ernakulam  \n",
       "1   350         Whitefield   Bangalore  \n",
       "2   300    Mathikere - BEL   Bangalore  \n",
       "3   250  Bannerghatta Road   Bangalore  \n",
       "4   250       Keelkattalai     Chennai  "
      ]
     },
     "execution_count": 27,
     "metadata": {},
     "output_type": "execute_result"
    }
   ],
   "source": [
    "dat=doc_train[\"Qualification\"]\n",
    "\n",
    "mbbs=[]\n",
    "bds=[]\n",
    "bams=[]\n",
    "md=[]\n",
    "bhms=[]\n",
    "fellowship=[]\n",
    "dlo=[]\n",
    "mlo=[]\n",
    "dnb=[]\n",
    "ddvl=[]\n",
    "ms=[]\n",
    "\n",
    "fun(mbbs,'MBBS')\n",
    "fun(bds,'BDS')\n",
    "fun(bams,'BAMS')\n",
    "fun(md,'MD')\n",
    "fun(bhms,'BHMS')\n",
    "fun(fellowship,'Fellowship')\n",
    "fun(dlo,'DLO')\n",
    "fun(mlo,'MLO')\n",
    "fun(dnb,'DNB')\n",
    "fun(ddvl,'DDVL')\n",
    "fun(ms,'MS')\n",
    "\n",
    "mbbs = to_df(mbbs)\n",
    "bds = to_df(bds)\n",
    "bams = to_df(bams)\n",
    "md = to_df(md)\n",
    "bhms = to_df(bhms)\n",
    "fellowship = to_df(fellowship)\n",
    "dlo = to_df(dlo)\n",
    "mlo = to_df(mlo)\n",
    "dnb = to_df(dnb)\n",
    "ddvl = to_df(ddvl)\n",
    "ms = to_df(ms)\n",
    "\n",
    "doc_train.drop('Qualification',axis =1,inplace=True)\n",
    "doc_train = pd.concat([mbbs,bhms,bams,ddvl,dlo,mlo,dnb,bds,md,ms,fellowship,doc_train],axis=1)\n",
    "\n",
    "mx = doc_train.columns[11:]\n",
    "for i in mx:\n",
    "  cols.append(i)\n",
    "doc_train.columns=cols\n",
    "doc_train.head()\n"
   ]
  },
  {
   "cell_type": "code",
   "execution_count": 28,
   "metadata": {},
   "outputs": [
    {
     "data": {
      "text/plain": [
       "array([' Ernakulam', ' Bangalore', ' Chennai', ' Delhi', ' Hyderabad',\n",
       "       ' Coimbatore', ' Mumbai', ' Thiruvananthapuram', 'none',\n",
       "       ' Sector 5', nan], dtype=object)"
      ]
     },
     "execution_count": 28,
     "metadata": {},
     "output_type": "execute_result"
    }
   ],
   "source": [
    "doc_train['city'].unique()"
   ]
  },
  {
   "cell_type": "code",
   "execution_count": 29,
   "metadata": {},
   "outputs": [],
   "source": [
    "import re\n",
    "doc_train['city'] = doc_train['city'].apply(lambda x: re.sub(' +','',str(x)))"
   ]
  },
  {
   "cell_type": "code",
   "execution_count": 30,
   "metadata": {},
   "outputs": [
    {
     "data": {
      "text/plain": [
       "Bangalore             1258\n",
       "Mumbai                1219\n",
       "Delhi                 1184\n",
       "Hyderabad              951\n",
       "Chennai                855\n",
       "Coimbatore             228\n",
       "Ernakulam              153\n",
       "Thiruvananthapuram      86\n",
       "none                    25\n",
       "nan                      1\n",
       "Sector5                  1\n",
       "Name: city, dtype: int64"
      ]
     },
     "execution_count": 30,
     "metadata": {},
     "output_type": "execute_result"
    }
   ],
   "source": [
    "doc_train[\"city\"].value_counts()"
   ]
  },
  {
   "cell_type": "code",
   "execution_count": 31,
   "metadata": {},
   "outputs": [
    {
     "data": {
      "text/html": [
       "<div>\n",
       "<style scoped>\n",
       "    .dataframe tbody tr th:only-of-type {\n",
       "        vertical-align: middle;\n",
       "    }\n",
       "\n",
       "    .dataframe tbody tr th {\n",
       "        vertical-align: top;\n",
       "    }\n",
       "\n",
       "    .dataframe thead th {\n",
       "        text-align: right;\n",
       "    }\n",
       "</style>\n",
       "<table border=\"1\" class=\"dataframe\">\n",
       "  <thead>\n",
       "    <tr style=\"text-align: right;\">\n",
       "      <th></th>\n",
       "      <th>mbbs</th>\n",
       "      <th>bhms</th>\n",
       "      <th>bams</th>\n",
       "      <th>ddvl</th>\n",
       "      <th>dlo</th>\n",
       "      <th>mlo</th>\n",
       "      <th>dnb</th>\n",
       "      <th>bds</th>\n",
       "      <th>md</th>\n",
       "      <th>ms</th>\n",
       "      <th>fellowship</th>\n",
       "      <th>Experience</th>\n",
       "      <th>Rating</th>\n",
       "      <th>Profile</th>\n",
       "      <th>Miscellaneous_Info</th>\n",
       "      <th>Fees</th>\n",
       "      <th>location</th>\n",
       "      <th>city</th>\n",
       "    </tr>\n",
       "  </thead>\n",
       "  <tbody>\n",
       "    <tr>\n",
       "      <th>2169</th>\n",
       "      <td>0</td>\n",
       "      <td>0</td>\n",
       "      <td>0</td>\n",
       "      <td>0</td>\n",
       "      <td>0</td>\n",
       "      <td>0</td>\n",
       "      <td>0</td>\n",
       "      <td>1</td>\n",
       "      <td>0</td>\n",
       "      <td>0</td>\n",
       "      <td>0</td>\n",
       "      <td>11</td>\n",
       "      <td>0</td>\n",
       "      <td>Dentist</td>\n",
       "      <td>NaN</td>\n",
       "      <td>250</td>\n",
       "      <td>Dwarka</td>\n",
       "      <td>Sector5</td>\n",
       "    </tr>\n",
       "    <tr>\n",
       "      <th>3980</th>\n",
       "      <td>0</td>\n",
       "      <td>0</td>\n",
       "      <td>0</td>\n",
       "      <td>0</td>\n",
       "      <td>0</td>\n",
       "      <td>0</td>\n",
       "      <td>0</td>\n",
       "      <td>1</td>\n",
       "      <td>0</td>\n",
       "      <td>0</td>\n",
       "      <td>0</td>\n",
       "      <td>23</td>\n",
       "      <td>0</td>\n",
       "      <td>Dentist</td>\n",
       "      <td>NaN</td>\n",
       "      <td>250</td>\n",
       "      <td>e</td>\n",
       "      <td>nan</td>\n",
       "    </tr>\n",
       "  </tbody>\n",
       "</table>\n",
       "</div>"
      ],
      "text/plain": [
       "      mbbs  bhms  bams  ddvl  dlo  mlo  dnb  bds  md  ms  fellowship  \\\n",
       "2169     0     0     0     0    0    0    0    1   0   0           0   \n",
       "3980     0     0     0     0    0    0    0    1   0   0           0   \n",
       "\n",
       "      Experience Rating  Profile Miscellaneous_Info  Fees location     city  \n",
       "2169          11      0  Dentist                NaN   250   Dwarka  Sector5  \n",
       "3980          23      0  Dentist                NaN   250        e      nan  "
      ]
     },
     "execution_count": 31,
     "metadata": {},
     "output_type": "execute_result"
    }
   ],
   "source": [
    "# city contains some improper data.\n",
    "doc_train[(doc_train['city'] == \"nan\") | (doc_train['city'] == \"Sector5\")]"
   ]
  },
  {
   "cell_type": "code",
   "execution_count": 32,
   "metadata": {},
   "outputs": [],
   "source": [
    "doc_train['city'] = np.where(doc_train['city']==\"Sector5\",\"Delhi\", doc_train['city'])\n",
    "\n",
    "#nan\n",
    "doc_train['city'].loc[3980] = \"none\"\n",
    "doc_train['location'].loc[3980] = \"none\"\n"
   ]
  },
  {
   "cell_type": "code",
   "execution_count": 33,
   "metadata": {},
   "outputs": [
    {
     "data": {
      "text/html": [
       "<div>\n",
       "<style scoped>\n",
       "    .dataframe tbody tr th:only-of-type {\n",
       "        vertical-align: middle;\n",
       "    }\n",
       "\n",
       "    .dataframe tbody tr th {\n",
       "        vertical-align: top;\n",
       "    }\n",
       "\n",
       "    .dataframe thead th {\n",
       "        text-align: right;\n",
       "    }\n",
       "</style>\n",
       "<table border=\"1\" class=\"dataframe\">\n",
       "  <thead>\n",
       "    <tr style=\"text-align: right;\">\n",
       "      <th></th>\n",
       "      <th>mbbs</th>\n",
       "      <th>bhms</th>\n",
       "      <th>bams</th>\n",
       "      <th>ddvl</th>\n",
       "      <th>dlo</th>\n",
       "      <th>mlo</th>\n",
       "      <th>dnb</th>\n",
       "      <th>bds</th>\n",
       "      <th>md</th>\n",
       "      <th>ms</th>\n",
       "      <th>fellowship</th>\n",
       "      <th>Experience</th>\n",
       "      <th>Rating</th>\n",
       "      <th>Profile</th>\n",
       "      <th>Miscellaneous_Info</th>\n",
       "      <th>Fees</th>\n",
       "      <th>location</th>\n",
       "      <th>city</th>\n",
       "    </tr>\n",
       "  </thead>\n",
       "  <tbody>\n",
       "    <tr>\n",
       "      <th>0</th>\n",
       "      <td>0</td>\n",
       "      <td>1</td>\n",
       "      <td>0</td>\n",
       "      <td>0</td>\n",
       "      <td>0</td>\n",
       "      <td>0</td>\n",
       "      <td>0</td>\n",
       "      <td>0</td>\n",
       "      <td>1</td>\n",
       "      <td>1</td>\n",
       "      <td>0</td>\n",
       "      <td>24</td>\n",
       "      <td>10</td>\n",
       "      <td>Homeopath</td>\n",
       "      <td>100% 16 Feedback Kakkanad, Ernakulam</td>\n",
       "      <td>100</td>\n",
       "      <td>Kakkanad</td>\n",
       "      <td>Ernakulam</td>\n",
       "    </tr>\n",
       "    <tr>\n",
       "      <th>1</th>\n",
       "      <td>0</td>\n",
       "      <td>0</td>\n",
       "      <td>1</td>\n",
       "      <td>0</td>\n",
       "      <td>0</td>\n",
       "      <td>0</td>\n",
       "      <td>0</td>\n",
       "      <td>0</td>\n",
       "      <td>1</td>\n",
       "      <td>1</td>\n",
       "      <td>0</td>\n",
       "      <td>12</td>\n",
       "      <td>10</td>\n",
       "      <td>Ayurveda</td>\n",
       "      <td>98% 76 Feedback Whitefield, Bangalore</td>\n",
       "      <td>350</td>\n",
       "      <td>Whitefield</td>\n",
       "      <td>Bangalore</td>\n",
       "    </tr>\n",
       "    <tr>\n",
       "      <th>2</th>\n",
       "      <td>1</td>\n",
       "      <td>0</td>\n",
       "      <td>0</td>\n",
       "      <td>0</td>\n",
       "      <td>0</td>\n",
       "      <td>0</td>\n",
       "      <td>0</td>\n",
       "      <td>0</td>\n",
       "      <td>0</td>\n",
       "      <td>1</td>\n",
       "      <td>0</td>\n",
       "      <td>9</td>\n",
       "      <td>0</td>\n",
       "      <td>ENT Specialist</td>\n",
       "      <td>NaN</td>\n",
       "      <td>300</td>\n",
       "      <td>Mathikere - BEL</td>\n",
       "      <td>Bangalore</td>\n",
       "    </tr>\n",
       "    <tr>\n",
       "      <th>3</th>\n",
       "      <td>0</td>\n",
       "      <td>0</td>\n",
       "      <td>1</td>\n",
       "      <td>0</td>\n",
       "      <td>0</td>\n",
       "      <td>0</td>\n",
       "      <td>0</td>\n",
       "      <td>0</td>\n",
       "      <td>0</td>\n",
       "      <td>1</td>\n",
       "      <td>0</td>\n",
       "      <td>12</td>\n",
       "      <td>0</td>\n",
       "      <td>Ayurveda</td>\n",
       "      <td>Bannerghatta Road, Bangalore ₹250 Available on...</td>\n",
       "      <td>250</td>\n",
       "      <td>Bannerghatta Road</td>\n",
       "      <td>Bangalore</td>\n",
       "    </tr>\n",
       "    <tr>\n",
       "      <th>4</th>\n",
       "      <td>0</td>\n",
       "      <td>0</td>\n",
       "      <td>1</td>\n",
       "      <td>0</td>\n",
       "      <td>0</td>\n",
       "      <td>0</td>\n",
       "      <td>0</td>\n",
       "      <td>0</td>\n",
       "      <td>0</td>\n",
       "      <td>1</td>\n",
       "      <td>0</td>\n",
       "      <td>20</td>\n",
       "      <td>10</td>\n",
       "      <td>Ayurveda</td>\n",
       "      <td>100% 4 Feedback Keelkattalai, Chennai</td>\n",
       "      <td>250</td>\n",
       "      <td>Keelkattalai</td>\n",
       "      <td>Chennai</td>\n",
       "    </tr>\n",
       "    <tr>\n",
       "      <th>5</th>\n",
       "      <td>0</td>\n",
       "      <td>0</td>\n",
       "      <td>1</td>\n",
       "      <td>0</td>\n",
       "      <td>0</td>\n",
       "      <td>0</td>\n",
       "      <td>0</td>\n",
       "      <td>0</td>\n",
       "      <td>0</td>\n",
       "      <td>1</td>\n",
       "      <td>0</td>\n",
       "      <td>8</td>\n",
       "      <td>0</td>\n",
       "      <td>Ayurveda</td>\n",
       "      <td>NaN</td>\n",
       "      <td>100</td>\n",
       "      <td>Porur</td>\n",
       "      <td>Chennai</td>\n",
       "    </tr>\n",
       "    <tr>\n",
       "      <th>6</th>\n",
       "      <td>0</td>\n",
       "      <td>1</td>\n",
       "      <td>0</td>\n",
       "      <td>0</td>\n",
       "      <td>0</td>\n",
       "      <td>0</td>\n",
       "      <td>0</td>\n",
       "      <td>0</td>\n",
       "      <td>0</td>\n",
       "      <td>1</td>\n",
       "      <td>0</td>\n",
       "      <td>42</td>\n",
       "      <td>0</td>\n",
       "      <td>Homeopath</td>\n",
       "      <td>NaN</td>\n",
       "      <td>200</td>\n",
       "      <td>Karol Bagh</td>\n",
       "      <td>Delhi</td>\n",
       "    </tr>\n",
       "    <tr>\n",
       "      <th>7</th>\n",
       "      <td>0</td>\n",
       "      <td>0</td>\n",
       "      <td>0</td>\n",
       "      <td>0</td>\n",
       "      <td>0</td>\n",
       "      <td>0</td>\n",
       "      <td>0</td>\n",
       "      <td>1</td>\n",
       "      <td>0</td>\n",
       "      <td>0</td>\n",
       "      <td>0</td>\n",
       "      <td>10</td>\n",
       "      <td>10</td>\n",
       "      <td>Dentist</td>\n",
       "      <td>Dental Fillings Crowns and Bridges Fixing Impa...</td>\n",
       "      <td>200</td>\n",
       "      <td>Arekere</td>\n",
       "      <td>Bangalore</td>\n",
       "    </tr>\n",
       "    <tr>\n",
       "      <th>8</th>\n",
       "      <td>1</td>\n",
       "      <td>0</td>\n",
       "      <td>0</td>\n",
       "      <td>0</td>\n",
       "      <td>0</td>\n",
       "      <td>0</td>\n",
       "      <td>0</td>\n",
       "      <td>0</td>\n",
       "      <td>1</td>\n",
       "      <td>0</td>\n",
       "      <td>0</td>\n",
       "      <td>14</td>\n",
       "      <td>0</td>\n",
       "      <td>General Medicine</td>\n",
       "      <td>NaN</td>\n",
       "      <td>100</td>\n",
       "      <td>Old City</td>\n",
       "      <td>Hyderabad</td>\n",
       "    </tr>\n",
       "    <tr>\n",
       "      <th>9</th>\n",
       "      <td>0</td>\n",
       "      <td>0</td>\n",
       "      <td>0</td>\n",
       "      <td>0</td>\n",
       "      <td>0</td>\n",
       "      <td>0</td>\n",
       "      <td>0</td>\n",
       "      <td>1</td>\n",
       "      <td>0</td>\n",
       "      <td>0</td>\n",
       "      <td>0</td>\n",
       "      <td>23</td>\n",
       "      <td>0</td>\n",
       "      <td>Dentist</td>\n",
       "      <td>NaN</td>\n",
       "      <td>100</td>\n",
       "      <td>Athani</td>\n",
       "      <td>Ernakulam</td>\n",
       "    </tr>\n",
       "  </tbody>\n",
       "</table>\n",
       "</div>"
      ],
      "text/plain": [
       "   mbbs  bhms  bams  ddvl  dlo  mlo  dnb  bds  md  ms  fellowship  Experience  \\\n",
       "0     0     1     0     0    0    0    0    0   1   1           0          24   \n",
       "1     0     0     1     0    0    0    0    0   1   1           0          12   \n",
       "2     1     0     0     0    0    0    0    0   0   1           0           9   \n",
       "3     0     0     1     0    0    0    0    0   0   1           0          12   \n",
       "4     0     0     1     0    0    0    0    0   0   1           0          20   \n",
       "5     0     0     1     0    0    0    0    0   0   1           0           8   \n",
       "6     0     1     0     0    0    0    0    0   0   1           0          42   \n",
       "7     0     0     0     0    0    0    0    1   0   0           0          10   \n",
       "8     1     0     0     0    0    0    0    0   1   0           0          14   \n",
       "9     0     0     0     0    0    0    0    1   0   0           0          23   \n",
       "\n",
       "  Rating           Profile                                 Miscellaneous_Info  \\\n",
       "0     10         Homeopath               100% 16 Feedback Kakkanad, Ernakulam   \n",
       "1     10          Ayurveda              98% 76 Feedback Whitefield, Bangalore   \n",
       "2      0    ENT Specialist                                                NaN   \n",
       "3      0          Ayurveda  Bannerghatta Road, Bangalore ₹250 Available on...   \n",
       "4     10          Ayurveda              100% 4 Feedback Keelkattalai, Chennai   \n",
       "5      0          Ayurveda                                                NaN   \n",
       "6      0         Homeopath                                                NaN   \n",
       "7     10           Dentist  Dental Fillings Crowns and Bridges Fixing Impa...   \n",
       "8      0  General Medicine                                                NaN   \n",
       "9      0           Dentist                                                NaN   \n",
       "\n",
       "   Fees           location       city  \n",
       "0   100           Kakkanad  Ernakulam  \n",
       "1   350         Whitefield  Bangalore  \n",
       "2   300    Mathikere - BEL  Bangalore  \n",
       "3   250  Bannerghatta Road  Bangalore  \n",
       "4   250       Keelkattalai    Chennai  \n",
       "5   100              Porur    Chennai  \n",
       "6   200         Karol Bagh      Delhi  \n",
       "7   200            Arekere  Bangalore  \n",
       "8   100           Old City  Hyderabad  \n",
       "9   100             Athani  Ernakulam  "
      ]
     },
     "execution_count": 33,
     "metadata": {},
     "output_type": "execute_result"
    }
   ],
   "source": [
    "doc_train.head(10)"
   ]
  },
  {
   "cell_type": "code",
   "execution_count": 34,
   "metadata": {},
   "outputs": [
    {
     "data": {
      "text/plain": [
       "city\n",
       "Bangalore             153\n",
       "Chennai               124\n",
       "Coimbatore             48\n",
       "Delhi                 200\n",
       "Ernakulam              52\n",
       "Hyderabad             135\n",
       "Mumbai                115\n",
       "Thiruvananthapuram     48\n",
       "none                    1\n",
       "Name: location, dtype: int64"
      ]
     },
     "execution_count": 34,
     "metadata": {},
     "output_type": "execute_result"
    }
   ],
   "source": [
    "doc_train.groupby('city')['location'].nunique()"
   ]
  },
  {
   "cell_type": "code",
   "execution_count": 35,
   "metadata": {},
   "outputs": [
    {
     "data": {
      "text/html": [
       "<div>\n",
       "<style scoped>\n",
       "    .dataframe tbody tr th:only-of-type {\n",
       "        vertical-align: middle;\n",
       "    }\n",
       "\n",
       "    .dataframe tbody tr th {\n",
       "        vertical-align: top;\n",
       "    }\n",
       "\n",
       "    .dataframe thead th {\n",
       "        text-align: right;\n",
       "    }\n",
       "</style>\n",
       "<table border=\"1\" class=\"dataframe\">\n",
       "  <thead>\n",
       "    <tr style=\"text-align: right;\">\n",
       "      <th></th>\n",
       "      <th>mbbs</th>\n",
       "      <th>bhms</th>\n",
       "      <th>bams</th>\n",
       "      <th>ddvl</th>\n",
       "      <th>dlo</th>\n",
       "      <th>mlo</th>\n",
       "      <th>dnb</th>\n",
       "      <th>bds</th>\n",
       "      <th>md</th>\n",
       "      <th>ms</th>\n",
       "      <th>fellowship</th>\n",
       "      <th>Experience</th>\n",
       "      <th>Rating</th>\n",
       "      <th>Profile</th>\n",
       "      <th>Miscellaneous_Info</th>\n",
       "      <th>Fees</th>\n",
       "      <th>location</th>\n",
       "      <th>city</th>\n",
       "    </tr>\n",
       "  </thead>\n",
       "  <tbody>\n",
       "    <tr>\n",
       "      <th>0</th>\n",
       "      <td>0</td>\n",
       "      <td>1</td>\n",
       "      <td>0</td>\n",
       "      <td>0</td>\n",
       "      <td>0</td>\n",
       "      <td>0</td>\n",
       "      <td>0</td>\n",
       "      <td>0</td>\n",
       "      <td>1</td>\n",
       "      <td>1</td>\n",
       "      <td>0</td>\n",
       "      <td>24</td>\n",
       "      <td>10</td>\n",
       "      <td>Homeopath</td>\n",
       "      <td>100% 16 Feedback Kakkanad, Ernakulam</td>\n",
       "      <td>100</td>\n",
       "      <td>Kakkanad</td>\n",
       "      <td>Ernakulam</td>\n",
       "    </tr>\n",
       "    <tr>\n",
       "      <th>1</th>\n",
       "      <td>0</td>\n",
       "      <td>0</td>\n",
       "      <td>1</td>\n",
       "      <td>0</td>\n",
       "      <td>0</td>\n",
       "      <td>0</td>\n",
       "      <td>0</td>\n",
       "      <td>0</td>\n",
       "      <td>1</td>\n",
       "      <td>1</td>\n",
       "      <td>0</td>\n",
       "      <td>12</td>\n",
       "      <td>10</td>\n",
       "      <td>Ayurveda</td>\n",
       "      <td>98% 76 Feedback Whitefield, Bangalore</td>\n",
       "      <td>350</td>\n",
       "      <td>Whitefield</td>\n",
       "      <td>Bangalore</td>\n",
       "    </tr>\n",
       "  </tbody>\n",
       "</table>\n",
       "</div>"
      ],
      "text/plain": [
       "   mbbs  bhms  bams  ddvl  dlo  mlo  dnb  bds  md  ms  fellowship  Experience  \\\n",
       "0     0     1     0     0    0    0    0    0   1   1           0          24   \n",
       "1     0     0     1     0    0    0    0    0   1   1           0          12   \n",
       "\n",
       "  Rating    Profile                     Miscellaneous_Info  Fees    location  \\\n",
       "0     10  Homeopath   100% 16 Feedback Kakkanad, Ernakulam   100    Kakkanad   \n",
       "1     10   Ayurveda  98% 76 Feedback Whitefield, Bangalore   350  Whitefield   \n",
       "\n",
       "        city  \n",
       "0  Ernakulam  \n",
       "1  Bangalore  "
      ]
     },
     "execution_count": 35,
     "metadata": {},
     "output_type": "execute_result"
    }
   ],
   "source": [
    "doc_train.head(2)"
   ]
  },
  {
   "cell_type": "markdown",
   "metadata": {},
   "source": [
    "### Exploratory Data Analysis"
   ]
  },
  {
   "cell_type": "markdown",
   "metadata": {},
   "source": [
    "Lets check the relationship between diff columns to target variable for better understanding."
   ]
  },
  {
   "cell_type": "code",
   "execution_count": 36,
   "metadata": {},
   "outputs": [
    {
     "data": {
      "image/png": "[encoded data removed]",
      "text/plain": [
       "<Figure size 720x648 with 1 Axes>"
      ]
     },
     "metadata": {
      "needs_background": "light"
     },
     "output_type": "display_data"
    }
   ],
   "source": [
    "#Citywise doctor fee rate\n",
    "plt.figure(figsize = (10,9))\n",
    "sns.barplot(x = \"city\", y = \"Fees\", data = doc_train)\n",
    "plt.xticks(rotation = 45)\n",
    "plt.title(\"Docotr fees with respect to City\")\n",
    "plt.show()"
   ]
  },
  {
   "cell_type": "code",
   "execution_count": 37,
   "metadata": {},
   "outputs": [
    {
     "data": {
      "image/png": "[encoded data removed]",
      "text/plain": [
       "<Figure size 720x576 with 1 Axes>"
      ]
     },
     "metadata": {
      "needs_background": "light"
     },
     "output_type": "display_data"
    }
   ],
   "source": [
    "#Doctors fees by profile\n",
    "plt.figure(figsize = (10,8))\n",
    "sns.barplot(x = 'Profile', y = 'Fees', data=doc_train)\n",
    "plt.xticks(rotation=45)\n",
    "plt.title(\"Doctor fees with respect to Profile\")\n",
    "plt.show()"
   ]
  },
  {
   "cell_type": "markdown",
   "metadata": {},
   "source": [
    "As per above plots we are come to know that doctors who belongs to metropolean cities like Bangalore, Chennai,Delhi,Hyderabad,Mumbai are took high amount of fees as compare to other city.\n",
    "\n",
    "Whereas doctors with specialization of Dermetologies, Homeopathy and ENT specialists charges more fees among all other doctors."
   ]
  },
  {
   "cell_type": "code",
   "execution_count": 38,
   "metadata": {},
   "outputs": [
    {
     "data": {
      "image/png": "[encoded data removed]",
      "text/plain": [
       "<Figure size 1080x360 with 1 Axes>"
      ]
     },
     "metadata": {
      "needs_background": "light"
     },
     "output_type": "display_data"
    }
   ],
   "source": [
    "plt.figure(figsize=(15,5))\n",
    "plt.title('Profile Analysis')\n",
    "\n",
    "plt.scatter(doc_train['Profile'],doc_train['Fees'],s=5)\n",
    "plt.show()\n"
   ]
  },
  {
   "cell_type": "markdown",
   "metadata": {},
   "source": [
    "Mostly fees ranges between 0 to 400 in every specialization.\n"
   ]
  },
  {
   "cell_type": "code",
   "execution_count": 39,
   "metadata": {},
   "outputs": [
    {
     "data": {
      "image/png": "[encoded data removed]",
      "text/plain": [
       "<Figure size 1080x360 with 1 Axes>"
      ]
     },
     "metadata": {
      "needs_background": "light"
     },
     "output_type": "display_data"
    }
   ],
   "source": [
    "plt.figure(figsize=(15,5))\n",
    "plt.title('Experience Analysis')\n",
    "\n",
    "plt.scatter(doc_train['Experience'],doc_train['Fees'],s=5)\n",
    "plt.show()"
   ]
  },
  {
   "cell_type": "markdown",
   "metadata": {},
   "source": [
    "The experience is not much correlated with fees"
   ]
  },
  {
   "cell_type": "code",
   "execution_count": 40,
   "metadata": {},
   "outputs": [
    {
     "data": {
      "image/png": "[encoded data removed]",
      "text/plain": [
       "<Figure size 648x432 with 1 Axes>"
      ]
     },
     "metadata": {
      "needs_background": "light"
     },
     "output_type": "display_data"
    }
   ],
   "source": [
    "sns.catplot(x='city',y='Fees', data=doc_train.sort_values(\"Fees\"),kind='box',height=6,aspect= 1.5,color='skyblue')\n",
    "plt.xticks(rotation=75)\n",
    "plt.show()"
   ]
  },
  {
   "cell_type": "code",
   "execution_count": 41,
   "metadata": {},
   "outputs": [],
   "source": [
    "doc_train = pd.get_dummies(doc_train,columns=['city','Profile'], prefix=['City','Profile'])"
   ]
  },
  {
   "cell_type": "code",
   "execution_count": 42,
   "metadata": {},
   "outputs": [
    {
     "data": {
      "text/html": [
       "<div>\n",
       "<style scoped>\n",
       "    .dataframe tbody tr th:only-of-type {\n",
       "        vertical-align: middle;\n",
       "    }\n",
       "\n",
       "    .dataframe tbody tr th {\n",
       "        vertical-align: top;\n",
       "    }\n",
       "\n",
       "    .dataframe thead th {\n",
       "        text-align: right;\n",
       "    }\n",
       "</style>\n",
       "<table border=\"1\" class=\"dataframe\">\n",
       "  <thead>\n",
       "    <tr style=\"text-align: right;\">\n",
       "      <th></th>\n",
       "      <th>mbbs</th>\n",
       "      <th>bhms</th>\n",
       "      <th>bams</th>\n",
       "      <th>ddvl</th>\n",
       "      <th>dlo</th>\n",
       "      <th>mlo</th>\n",
       "      <th>dnb</th>\n",
       "      <th>bds</th>\n",
       "      <th>md</th>\n",
       "      <th>ms</th>\n",
       "      <th>...</th>\n",
       "      <th>City_Hyderabad</th>\n",
       "      <th>City_Mumbai</th>\n",
       "      <th>City_Thiruvananthapuram</th>\n",
       "      <th>City_none</th>\n",
       "      <th>Profile_Ayurveda</th>\n",
       "      <th>Profile_Dentist</th>\n",
       "      <th>Profile_Dermatologists</th>\n",
       "      <th>Profile_ENT Specialist</th>\n",
       "      <th>Profile_General Medicine</th>\n",
       "      <th>Profile_Homeopath</th>\n",
       "    </tr>\n",
       "  </thead>\n",
       "  <tbody>\n",
       "    <tr>\n",
       "      <th>0</th>\n",
       "      <td>0</td>\n",
       "      <td>1</td>\n",
       "      <td>0</td>\n",
       "      <td>0</td>\n",
       "      <td>0</td>\n",
       "      <td>0</td>\n",
       "      <td>0</td>\n",
       "      <td>0</td>\n",
       "      <td>1</td>\n",
       "      <td>1</td>\n",
       "      <td>...</td>\n",
       "      <td>0</td>\n",
       "      <td>0</td>\n",
       "      <td>0</td>\n",
       "      <td>0</td>\n",
       "      <td>0</td>\n",
       "      <td>0</td>\n",
       "      <td>0</td>\n",
       "      <td>0</td>\n",
       "      <td>0</td>\n",
       "      <td>1</td>\n",
       "    </tr>\n",
       "    <tr>\n",
       "      <th>1</th>\n",
       "      <td>0</td>\n",
       "      <td>0</td>\n",
       "      <td>1</td>\n",
       "      <td>0</td>\n",
       "      <td>0</td>\n",
       "      <td>0</td>\n",
       "      <td>0</td>\n",
       "      <td>0</td>\n",
       "      <td>1</td>\n",
       "      <td>1</td>\n",
       "      <td>...</td>\n",
       "      <td>0</td>\n",
       "      <td>0</td>\n",
       "      <td>0</td>\n",
       "      <td>0</td>\n",
       "      <td>1</td>\n",
       "      <td>0</td>\n",
       "      <td>0</td>\n",
       "      <td>0</td>\n",
       "      <td>0</td>\n",
       "      <td>0</td>\n",
       "    </tr>\n",
       "    <tr>\n",
       "      <th>2</th>\n",
       "      <td>1</td>\n",
       "      <td>0</td>\n",
       "      <td>0</td>\n",
       "      <td>0</td>\n",
       "      <td>0</td>\n",
       "      <td>0</td>\n",
       "      <td>0</td>\n",
       "      <td>0</td>\n",
       "      <td>0</td>\n",
       "      <td>1</td>\n",
       "      <td>...</td>\n",
       "      <td>0</td>\n",
       "      <td>0</td>\n",
       "      <td>0</td>\n",
       "      <td>0</td>\n",
       "      <td>0</td>\n",
       "      <td>0</td>\n",
       "      <td>0</td>\n",
       "      <td>1</td>\n",
       "      <td>0</td>\n",
       "      <td>0</td>\n",
       "    </tr>\n",
       "    <tr>\n",
       "      <th>3</th>\n",
       "      <td>0</td>\n",
       "      <td>0</td>\n",
       "      <td>1</td>\n",
       "      <td>0</td>\n",
       "      <td>0</td>\n",
       "      <td>0</td>\n",
       "      <td>0</td>\n",
       "      <td>0</td>\n",
       "      <td>0</td>\n",
       "      <td>1</td>\n",
       "      <td>...</td>\n",
       "      <td>0</td>\n",
       "      <td>0</td>\n",
       "      <td>0</td>\n",
       "      <td>0</td>\n",
       "      <td>1</td>\n",
       "      <td>0</td>\n",
       "      <td>0</td>\n",
       "      <td>0</td>\n",
       "      <td>0</td>\n",
       "      <td>0</td>\n",
       "    </tr>\n",
       "    <tr>\n",
       "      <th>4</th>\n",
       "      <td>0</td>\n",
       "      <td>0</td>\n",
       "      <td>1</td>\n",
       "      <td>0</td>\n",
       "      <td>0</td>\n",
       "      <td>0</td>\n",
       "      <td>0</td>\n",
       "      <td>0</td>\n",
       "      <td>0</td>\n",
       "      <td>1</td>\n",
       "      <td>...</td>\n",
       "      <td>0</td>\n",
       "      <td>0</td>\n",
       "      <td>0</td>\n",
       "      <td>0</td>\n",
       "      <td>1</td>\n",
       "      <td>0</td>\n",
       "      <td>0</td>\n",
       "      <td>0</td>\n",
       "      <td>0</td>\n",
       "      <td>0</td>\n",
       "    </tr>\n",
       "    <tr>\n",
       "      <th>5</th>\n",
       "      <td>0</td>\n",
       "      <td>0</td>\n",
       "      <td>1</td>\n",
       "      <td>0</td>\n",
       "      <td>0</td>\n",
       "      <td>0</td>\n",
       "      <td>0</td>\n",
       "      <td>0</td>\n",
       "      <td>0</td>\n",
       "      <td>1</td>\n",
       "      <td>...</td>\n",
       "      <td>0</td>\n",
       "      <td>0</td>\n",
       "      <td>0</td>\n",
       "      <td>0</td>\n",
       "      <td>1</td>\n",
       "      <td>0</td>\n",
       "      <td>0</td>\n",
       "      <td>0</td>\n",
       "      <td>0</td>\n",
       "      <td>0</td>\n",
       "    </tr>\n",
       "    <tr>\n",
       "      <th>6</th>\n",
       "      <td>0</td>\n",
       "      <td>1</td>\n",
       "      <td>0</td>\n",
       "      <td>0</td>\n",
       "      <td>0</td>\n",
       "      <td>0</td>\n",
       "      <td>0</td>\n",
       "      <td>0</td>\n",
       "      <td>0</td>\n",
       "      <td>1</td>\n",
       "      <td>...</td>\n",
       "      <td>0</td>\n",
       "      <td>0</td>\n",
       "      <td>0</td>\n",
       "      <td>0</td>\n",
       "      <td>0</td>\n",
       "      <td>0</td>\n",
       "      <td>0</td>\n",
       "      <td>0</td>\n",
       "      <td>0</td>\n",
       "      <td>1</td>\n",
       "    </tr>\n",
       "    <tr>\n",
       "      <th>7</th>\n",
       "      <td>0</td>\n",
       "      <td>0</td>\n",
       "      <td>0</td>\n",
       "      <td>0</td>\n",
       "      <td>0</td>\n",
       "      <td>0</td>\n",
       "      <td>0</td>\n",
       "      <td>1</td>\n",
       "      <td>0</td>\n",
       "      <td>0</td>\n",
       "      <td>...</td>\n",
       "      <td>0</td>\n",
       "      <td>0</td>\n",
       "      <td>0</td>\n",
       "      <td>0</td>\n",
       "      <td>0</td>\n",
       "      <td>1</td>\n",
       "      <td>0</td>\n",
       "      <td>0</td>\n",
       "      <td>0</td>\n",
       "      <td>0</td>\n",
       "    </tr>\n",
       "    <tr>\n",
       "      <th>8</th>\n",
       "      <td>1</td>\n",
       "      <td>0</td>\n",
       "      <td>0</td>\n",
       "      <td>0</td>\n",
       "      <td>0</td>\n",
       "      <td>0</td>\n",
       "      <td>0</td>\n",
       "      <td>0</td>\n",
       "      <td>1</td>\n",
       "      <td>0</td>\n",
       "      <td>...</td>\n",
       "      <td>1</td>\n",
       "      <td>0</td>\n",
       "      <td>0</td>\n",
       "      <td>0</td>\n",
       "      <td>0</td>\n",
       "      <td>0</td>\n",
       "      <td>0</td>\n",
       "      <td>0</td>\n",
       "      <td>1</td>\n",
       "      <td>0</td>\n",
       "    </tr>\n",
       "    <tr>\n",
       "      <th>9</th>\n",
       "      <td>0</td>\n",
       "      <td>0</td>\n",
       "      <td>0</td>\n",
       "      <td>0</td>\n",
       "      <td>0</td>\n",
       "      <td>0</td>\n",
       "      <td>0</td>\n",
       "      <td>1</td>\n",
       "      <td>0</td>\n",
       "      <td>0</td>\n",
       "      <td>...</td>\n",
       "      <td>0</td>\n",
       "      <td>0</td>\n",
       "      <td>0</td>\n",
       "      <td>0</td>\n",
       "      <td>0</td>\n",
       "      <td>1</td>\n",
       "      <td>0</td>\n",
       "      <td>0</td>\n",
       "      <td>0</td>\n",
       "      <td>0</td>\n",
       "    </tr>\n",
       "  </tbody>\n",
       "</table>\n",
       "<p>10 rows × 31 columns</p>\n",
       "</div>"
      ],
      "text/plain": [
       "   mbbs  bhms  bams  ddvl  dlo  mlo  dnb  bds  md  ms  ...  City_Hyderabad  \\\n",
       "0     0     1     0     0    0    0    0    0   1   1  ...               0   \n",
       "1     0     0     1     0    0    0    0    0   1   1  ...               0   \n",
       "2     1     0     0     0    0    0    0    0   0   1  ...               0   \n",
       "3     0     0     1     0    0    0    0    0   0   1  ...               0   \n",
       "4     0     0     1     0    0    0    0    0   0   1  ...               0   \n",
       "5     0     0     1     0    0    0    0    0   0   1  ...               0   \n",
       "6     0     1     0     0    0    0    0    0   0   1  ...               0   \n",
       "7     0     0     0     0    0    0    0    1   0   0  ...               0   \n",
       "8     1     0     0     0    0    0    0    0   1   0  ...               1   \n",
       "9     0     0     0     0    0    0    0    1   0   0  ...               0   \n",
       "\n",
       "   City_Mumbai City_Thiruvananthapuram City_none  Profile_Ayurveda  \\\n",
       "0            0                       0         0                 0   \n",
       "1            0                       0         0                 1   \n",
       "2            0                       0         0                 0   \n",
       "3            0                       0         0                 1   \n",
       "4            0                       0         0                 1   \n",
       "5            0                       0         0                 1   \n",
       "6            0                       0         0                 0   \n",
       "7            0                       0         0                 0   \n",
       "8            0                       0         0                 0   \n",
       "9            0                       0         0                 0   \n",
       "\n",
       "  Profile_Dentist  Profile_Dermatologists  Profile_ENT Specialist  \\\n",
       "0               0                       0                       0   \n",
       "1               0                       0                       0   \n",
       "2               0                       0                       1   \n",
       "3               0                       0                       0   \n",
       "4               0                       0                       0   \n",
       "5               0                       0                       0   \n",
       "6               0                       0                       0   \n",
       "7               1                       0                       0   \n",
       "8               0                       0                       0   \n",
       "9               1                       0                       0   \n",
       "\n",
       "   Profile_General Medicine  Profile_Homeopath  \n",
       "0                         0                  1  \n",
       "1                         0                  0  \n",
       "2                         0                  0  \n",
       "3                         0                  0  \n",
       "4                         0                  0  \n",
       "5                         0                  0  \n",
       "6                         0                  1  \n",
       "7                         0                  0  \n",
       "8                         1                  0  \n",
       "9                         0                  0  \n",
       "\n",
       "[10 rows x 31 columns]"
      ]
     },
     "execution_count": 42,
     "metadata": {},
     "output_type": "execute_result"
    }
   ],
   "source": [
    "doc_train.head(10)"
   ]
  },
  {
   "cell_type": "markdown",
   "metadata": {},
   "source": [
    "Miscellaneous_Info column consists data which we have already using like city, rating and profile so better to drop this column.\n",
    "\n",
    "Location and city represents approximatly the same relationship so we can drop location column as well."
   ]
  },
  {
   "cell_type": "code",
   "execution_count": 43,
   "metadata": {},
   "outputs": [],
   "source": [
    "doc_train.drop([\"Miscellaneous_Info\",\"location\"], axis=1, inplace=True)"
   ]
  },
  {
   "cell_type": "code",
   "execution_count": 44,
   "metadata": {},
   "outputs": [
    {
     "data": {
      "text/html": [
       "<div>\n",
       "<style scoped>\n",
       "    .dataframe tbody tr th:only-of-type {\n",
       "        vertical-align: middle;\n",
       "    }\n",
       "\n",
       "    .dataframe tbody tr th {\n",
       "        vertical-align: top;\n",
       "    }\n",
       "\n",
       "    .dataframe thead th {\n",
       "        text-align: right;\n",
       "    }\n",
       "</style>\n",
       "<table border=\"1\" class=\"dataframe\">\n",
       "  <thead>\n",
       "    <tr style=\"text-align: right;\">\n",
       "      <th></th>\n",
       "      <th>mbbs</th>\n",
       "      <th>bhms</th>\n",
       "      <th>bams</th>\n",
       "      <th>ddvl</th>\n",
       "      <th>dlo</th>\n",
       "      <th>mlo</th>\n",
       "      <th>dnb</th>\n",
       "      <th>bds</th>\n",
       "      <th>md</th>\n",
       "      <th>ms</th>\n",
       "      <th>...</th>\n",
       "      <th>City_Hyderabad</th>\n",
       "      <th>City_Mumbai</th>\n",
       "      <th>City_Thiruvananthapuram</th>\n",
       "      <th>City_none</th>\n",
       "      <th>Profile_Ayurveda</th>\n",
       "      <th>Profile_Dentist</th>\n",
       "      <th>Profile_Dermatologists</th>\n",
       "      <th>Profile_ENT Specialist</th>\n",
       "      <th>Profile_General Medicine</th>\n",
       "      <th>Profile_Homeopath</th>\n",
       "    </tr>\n",
       "  </thead>\n",
       "  <tbody>\n",
       "    <tr>\n",
       "      <th>0</th>\n",
       "      <td>0</td>\n",
       "      <td>1</td>\n",
       "      <td>0</td>\n",
       "      <td>0</td>\n",
       "      <td>0</td>\n",
       "      <td>0</td>\n",
       "      <td>0</td>\n",
       "      <td>0</td>\n",
       "      <td>1</td>\n",
       "      <td>1</td>\n",
       "      <td>...</td>\n",
       "      <td>0</td>\n",
       "      <td>0</td>\n",
       "      <td>0</td>\n",
       "      <td>0</td>\n",
       "      <td>0</td>\n",
       "      <td>0</td>\n",
       "      <td>0</td>\n",
       "      <td>0</td>\n",
       "      <td>0</td>\n",
       "      <td>1</td>\n",
       "    </tr>\n",
       "    <tr>\n",
       "      <th>1</th>\n",
       "      <td>0</td>\n",
       "      <td>0</td>\n",
       "      <td>1</td>\n",
       "      <td>0</td>\n",
       "      <td>0</td>\n",
       "      <td>0</td>\n",
       "      <td>0</td>\n",
       "      <td>0</td>\n",
       "      <td>1</td>\n",
       "      <td>1</td>\n",
       "      <td>...</td>\n",
       "      <td>0</td>\n",
       "      <td>0</td>\n",
       "      <td>0</td>\n",
       "      <td>0</td>\n",
       "      <td>1</td>\n",
       "      <td>0</td>\n",
       "      <td>0</td>\n",
       "      <td>0</td>\n",
       "      <td>0</td>\n",
       "      <td>0</td>\n",
       "    </tr>\n",
       "    <tr>\n",
       "      <th>2</th>\n",
       "      <td>1</td>\n",
       "      <td>0</td>\n",
       "      <td>0</td>\n",
       "      <td>0</td>\n",
       "      <td>0</td>\n",
       "      <td>0</td>\n",
       "      <td>0</td>\n",
       "      <td>0</td>\n",
       "      <td>0</td>\n",
       "      <td>1</td>\n",
       "      <td>...</td>\n",
       "      <td>0</td>\n",
       "      <td>0</td>\n",
       "      <td>0</td>\n",
       "      <td>0</td>\n",
       "      <td>0</td>\n",
       "      <td>0</td>\n",
       "      <td>0</td>\n",
       "      <td>1</td>\n",
       "      <td>0</td>\n",
       "      <td>0</td>\n",
       "    </tr>\n",
       "    <tr>\n",
       "      <th>3</th>\n",
       "      <td>0</td>\n",
       "      <td>0</td>\n",
       "      <td>1</td>\n",
       "      <td>0</td>\n",
       "      <td>0</td>\n",
       "      <td>0</td>\n",
       "      <td>0</td>\n",
       "      <td>0</td>\n",
       "      <td>0</td>\n",
       "      <td>1</td>\n",
       "      <td>...</td>\n",
       "      <td>0</td>\n",
       "      <td>0</td>\n",
       "      <td>0</td>\n",
       "      <td>0</td>\n",
       "      <td>1</td>\n",
       "      <td>0</td>\n",
       "      <td>0</td>\n",
       "      <td>0</td>\n",
       "      <td>0</td>\n",
       "      <td>0</td>\n",
       "    </tr>\n",
       "    <tr>\n",
       "      <th>4</th>\n",
       "      <td>0</td>\n",
       "      <td>0</td>\n",
       "      <td>1</td>\n",
       "      <td>0</td>\n",
       "      <td>0</td>\n",
       "      <td>0</td>\n",
       "      <td>0</td>\n",
       "      <td>0</td>\n",
       "      <td>0</td>\n",
       "      <td>1</td>\n",
       "      <td>...</td>\n",
       "      <td>0</td>\n",
       "      <td>0</td>\n",
       "      <td>0</td>\n",
       "      <td>0</td>\n",
       "      <td>1</td>\n",
       "      <td>0</td>\n",
       "      <td>0</td>\n",
       "      <td>0</td>\n",
       "      <td>0</td>\n",
       "      <td>0</td>\n",
       "    </tr>\n",
       "  </tbody>\n",
       "</table>\n",
       "<p>5 rows × 29 columns</p>\n",
       "</div>"
      ],
      "text/plain": [
       "   mbbs  bhms  bams  ddvl  dlo  mlo  dnb  bds  md  ms  ...  City_Hyderabad  \\\n",
       "0     0     1     0     0    0    0    0    0   1   1  ...               0   \n",
       "1     0     0     1     0    0    0    0    0   1   1  ...               0   \n",
       "2     1     0     0     0    0    0    0    0   0   1  ...               0   \n",
       "3     0     0     1     0    0    0    0    0   0   1  ...               0   \n",
       "4     0     0     1     0    0    0    0    0   0   1  ...               0   \n",
       "\n",
       "   City_Mumbai City_Thiruvananthapuram  City_none  Profile_Ayurveda  \\\n",
       "0            0                       0          0                 0   \n",
       "1            0                       0          0                 1   \n",
       "2            0                       0          0                 0   \n",
       "3            0                       0          0                 1   \n",
       "4            0                       0          0                 1   \n",
       "\n",
       "   Profile_Dentist  Profile_Dermatologists  Profile_ENT Specialist  \\\n",
       "0                0                       0                       0   \n",
       "1                0                       0                       0   \n",
       "2                0                       0                       1   \n",
       "3                0                       0                       0   \n",
       "4                0                       0                       0   \n",
       "\n",
       "   Profile_General Medicine  Profile_Homeopath  \n",
       "0                         0                  1  \n",
       "1                         0                  0  \n",
       "2                         0                  0  \n",
       "3                         0                  0  \n",
       "4                         0                  0  \n",
       "\n",
       "[5 rows x 29 columns]"
      ]
     },
     "execution_count": 44,
     "metadata": {},
     "output_type": "execute_result"
    }
   ],
   "source": [
    "doc_train.head()"
   ]
  },
  {
   "cell_type": "code",
   "execution_count": 45,
   "metadata": {},
   "outputs": [
    {
     "data": {
      "image/png": "[encoded data removed]",
      "text/plain": [
       "<Figure size 720x576 with 1 Axes>"
      ]
     },
     "metadata": {
      "needs_background": "light"
     },
     "output_type": "display_data"
    }
   ],
   "source": [
    "plt.figure(figsize=(10,8))\n",
    "ax = sns.lineplot(x='Experience',y='Fees',data=doc_train)\n",
    "ax.set_title(\"Experience wrt doctor Fees\")\n",
    "plt.show()"
   ]
  },
  {
   "cell_type": "code",
   "execution_count": 46,
   "metadata": {},
   "outputs": [
    {
     "data": {
      "image/png": "[encoded data removed]",
      "text/plain": [
       "<Figure size 576x576 with 1 Axes>"
      ]
     },
     "metadata": {
      "needs_background": "light"
     },
     "output_type": "display_data"
    }
   ],
   "source": [
    "plt.figure(figsize=(8,8))\n",
    "sns.barplot(x='Rating',y='Experience',data=doc_train,palette='Blues')\n",
    "plt.show()"
   ]
  },
  {
   "cell_type": "code",
   "execution_count": 47,
   "metadata": {},
   "outputs": [
    {
     "data": {
      "image/png": "[encoded data removed]",
      "text/plain": [
       "<Figure size 576x576 with 1 Axes>"
      ]
     },
     "metadata": {
      "needs_background": "light"
     },
     "output_type": "display_data"
    }
   ],
   "source": [
    "plt.figure(figsize=(8,8))\n",
    "sns.barplot(x='Rating',y='Fees',data=doc_train,palette='Blues')\n",
    "plt.title(\"Rating Vs Doctor_Fees\")\n",
    "plt.show()"
   ]
  },
  {
   "cell_type": "markdown",
   "metadata": {},
   "source": [
    "As we have grouped the rating in 10 bins, eg: bin5 will be rating of 41-50%.\n",
    "\n",
    "\n",
    "As, we can see that High rating does not relate to high fees charged, infact low fees can be reason of high rating and where fees are charged so high, there rating is between 30-60%.\n"
   ]
  },
  {
   "cell_type": "markdown",
   "metadata": {},
   "source": [
    "### Test Dataset\n"
   ]
  },
  {
   "cell_type": "code",
   "execution_count": 48,
   "metadata": {},
   "outputs": [],
   "source": [
    "#Place column (Extract city and locality in diff column)\n",
    "doc_test.Place.fillna('none,none',inplace=True)\n",
    "\n",
    "doc_test['location'] = doc_test['Place'].str.split(\",\").str[0]\n",
    "doc_test['city'] = doc_test['Place'].str.split(\",\").str[1]\n",
    "#drop place column\n",
    "doc_test.drop('Place',axis=1,inplace=True)\n",
    "\n",
    "# EXPERIENCE COLUMN\n",
    "doc_test['Experience'] = doc_test['Experience'].str.split().str[0]\n",
    "doc_test['Experience'] = doc_test['Experience'].astype(int)\n",
    "\n",
    "\n",
    "#Rating column\n",
    "doc_test['Rating'].fillna('-99%',inplace=True)\n",
    "doc_test['Rating'] = doc_test['Rating'].str.slice(stop=-1).astype(int)\n",
    "# group rating in 10 groups, missing_value to group 0\n",
    "bins = [-99,0,10,20,30,40,50,60,70,80,90,100]\n",
    "labels = [int(i) for i in range(11)]\n",
    "doc_test['Rating'] = pd.cut(doc_test['Rating'], bins=bins, labels=labels, include_lowest=True)\n"
   ]
  },
  {
   "cell_type": "code",
   "execution_count": 49,
   "metadata": {},
   "outputs": [
    {
     "data": {
      "text/html": [
       "<div>\n",
       "<style scoped>\n",
       "    .dataframe tbody tr th:only-of-type {\n",
       "        vertical-align: middle;\n",
       "    }\n",
       "\n",
       "    .dataframe tbody tr th {\n",
       "        vertical-align: top;\n",
       "    }\n",
       "\n",
       "    .dataframe thead th {\n",
       "        text-align: right;\n",
       "    }\n",
       "</style>\n",
       "<table border=\"1\" class=\"dataframe\">\n",
       "  <thead>\n",
       "    <tr style=\"text-align: right;\">\n",
       "      <th></th>\n",
       "      <th>mbbs</th>\n",
       "      <th>bhms</th>\n",
       "      <th>bams</th>\n",
       "      <th>ddvl</th>\n",
       "      <th>dlo</th>\n",
       "      <th>mlo</th>\n",
       "      <th>dnb</th>\n",
       "      <th>bds</th>\n",
       "      <th>md</th>\n",
       "      <th>ms</th>\n",
       "      <th>fellowship</th>\n",
       "      <th>Experience</th>\n",
       "      <th>Rating</th>\n",
       "      <th>Profile</th>\n",
       "      <th>Miscellaneous_Info</th>\n",
       "      <th>location</th>\n",
       "      <th>city</th>\n",
       "    </tr>\n",
       "  </thead>\n",
       "  <tbody>\n",
       "    <tr>\n",
       "      <th>0</th>\n",
       "      <td>1</td>\n",
       "      <td>0</td>\n",
       "      <td>0</td>\n",
       "      <td>0</td>\n",
       "      <td>0</td>\n",
       "      <td>0</td>\n",
       "      <td>0</td>\n",
       "      <td>0</td>\n",
       "      <td>0</td>\n",
       "      <td>0</td>\n",
       "      <td>0</td>\n",
       "      <td>35</td>\n",
       "      <td>0</td>\n",
       "      <td>General Medicine</td>\n",
       "      <td>NaN</td>\n",
       "      <td>Ghatkopar East</td>\n",
       "      <td>Mumbai</td>\n",
       "    </tr>\n",
       "    <tr>\n",
       "      <th>1</th>\n",
       "      <td>1</td>\n",
       "      <td>0</td>\n",
       "      <td>0</td>\n",
       "      <td>0</td>\n",
       "      <td>1</td>\n",
       "      <td>0</td>\n",
       "      <td>0</td>\n",
       "      <td>0</td>\n",
       "      <td>0</td>\n",
       "      <td>0</td>\n",
       "      <td>0</td>\n",
       "      <td>31</td>\n",
       "      <td>0</td>\n",
       "      <td>ENT Specialist</td>\n",
       "      <td>NaN</td>\n",
       "      <td>West Marredpally</td>\n",
       "      <td>Hyderabad</td>\n",
       "    </tr>\n",
       "    <tr>\n",
       "      <th>2</th>\n",
       "      <td>1</td>\n",
       "      <td>0</td>\n",
       "      <td>0</td>\n",
       "      <td>1</td>\n",
       "      <td>0</td>\n",
       "      <td>0</td>\n",
       "      <td>0</td>\n",
       "      <td>0</td>\n",
       "      <td>0</td>\n",
       "      <td>0</td>\n",
       "      <td>0</td>\n",
       "      <td>40</td>\n",
       "      <td>7</td>\n",
       "      <td>Dermatologists</td>\n",
       "      <td>70% 4 Feedback KK Nagar, Chennai</td>\n",
       "      <td>KK Nagar</td>\n",
       "      <td>Chennai</td>\n",
       "    </tr>\n",
       "    <tr>\n",
       "      <th>3</th>\n",
       "      <td>0</td>\n",
       "      <td>0</td>\n",
       "      <td>1</td>\n",
       "      <td>0</td>\n",
       "      <td>0</td>\n",
       "      <td>0</td>\n",
       "      <td>0</td>\n",
       "      <td>0</td>\n",
       "      <td>0</td>\n",
       "      <td>1</td>\n",
       "      <td>0</td>\n",
       "      <td>0</td>\n",
       "      <td>0</td>\n",
       "      <td>Ayurveda</td>\n",
       "      <td>NaN</td>\n",
       "      <td>New Ashok Nagar</td>\n",
       "      <td>Delhi</td>\n",
       "    </tr>\n",
       "    <tr>\n",
       "      <th>4</th>\n",
       "      <td>0</td>\n",
       "      <td>0</td>\n",
       "      <td>0</td>\n",
       "      <td>0</td>\n",
       "      <td>0</td>\n",
       "      <td>0</td>\n",
       "      <td>0</td>\n",
       "      <td>1</td>\n",
       "      <td>1</td>\n",
       "      <td>0</td>\n",
       "      <td>0</td>\n",
       "      <td>16</td>\n",
       "      <td>10</td>\n",
       "      <td>Dentist</td>\n",
       "      <td>General Dentistry Conservative Dentistry Cosme...</td>\n",
       "      <td>Kanakpura Road</td>\n",
       "      <td>Bangalore</td>\n",
       "    </tr>\n",
       "  </tbody>\n",
       "</table>\n",
       "</div>"
      ],
      "text/plain": [
       "   mbbs  bhms  bams  ddvl  dlo  mlo  dnb  bds  md  ms  fellowship  Experience  \\\n",
       "0     1     0     0     0    0    0    0    0   0   0           0          35   \n",
       "1     1     0     0     0    1    0    0    0   0   0           0          31   \n",
       "2     1     0     0     1    0    0    0    0   0   0           0          40   \n",
       "3     0     0     1     0    0    0    0    0   0   1           0           0   \n",
       "4     0     0     0     0    0    0    0    1   1   0           0          16   \n",
       "\n",
       "  Rating           Profile                                 Miscellaneous_Info  \\\n",
       "0      0  General Medicine                                                NaN   \n",
       "1      0    ENT Specialist                                                NaN   \n",
       "2      7    Dermatologists                   70% 4 Feedback KK Nagar, Chennai   \n",
       "3      0          Ayurveda                                                NaN   \n",
       "4     10           Dentist  General Dentistry Conservative Dentistry Cosme...   \n",
       "\n",
       "           location        city  \n",
       "0    Ghatkopar East      Mumbai  \n",
       "1  West Marredpally   Hyderabad  \n",
       "2          KK Nagar     Chennai  \n",
       "3   New Ashok Nagar       Delhi  \n",
       "4    Kanakpura Road   Bangalore  "
      ]
     },
     "execution_count": 49,
     "metadata": {},
     "output_type": "execute_result"
    }
   ],
   "source": [
    "#Qualification Column\n",
    "def fun(arr,string):\n",
    "  for data in dat:\n",
    "    if data.find(string) !=-1:\n",
    "      arr.append(int(1))\n",
    "    else :\n",
    "      arr.append(int(0))\n",
    "def to_df(lst):\n",
    "  lst=pd.DataFrame(lst)\n",
    "  return lst\n",
    "\n",
    "cols=['mbbs','bhms','bams','ddvl','dlo','mlo','dnb','bds','md','ms','fellowship']\n",
    "\n",
    "dat=doc_test[\"Qualification\"]\n",
    "\n",
    "mbbs=[]\n",
    "bds=[]\n",
    "bams=[]\n",
    "md=[]\n",
    "bhms=[]\n",
    "fellowship=[]\n",
    "dlo=[]\n",
    "mlo=[]\n",
    "dnb=[]\n",
    "ddvl=[]\n",
    "ms=[]\n",
    "\n",
    "fun(mbbs,'MBBS')\n",
    "fun(bds,'BDS')\n",
    "fun(bams,'BAMS')\n",
    "fun(md,'MD')\n",
    "fun(bhms,'BHMS')\n",
    "fun(fellowship,'Fellowship')\n",
    "fun(dlo,'DLO')\n",
    "fun(mlo,'MLO')\n",
    "fun(dnb,'DNB')\n",
    "fun(ddvl,'DDVL')\n",
    "fun(ms,'MS')\n",
    "\n",
    "mbbs = to_df(mbbs)\n",
    "bds = to_df(bds)\n",
    "bams = to_df(bams)\n",
    "md = to_df(md)\n",
    "bhms = to_df(bhms)\n",
    "fellowship = to_df(fellowship)\n",
    "dlo = to_df(dlo)\n",
    "mlo = to_df(mlo)\n",
    "dnb = to_df(dnb)\n",
    "ddvl = to_df(ddvl)\n",
    "ms = to_df(ms)\n",
    "\n",
    "doc_test.drop('Qualification',axis =1,inplace=True)\n",
    "doc_test = pd.concat([mbbs,bhms,bams,ddvl,dlo,mlo,dnb,bds,md,ms,fellowship,doc_test],axis=1)\n",
    "\n",
    "mx = doc_test.columns[11:]\n",
    "for i in mx:\n",
    "  cols.append(i)\n",
    "doc_test.columns=cols\n",
    "doc_test.head()\n",
    "\n"
   ]
  },
  {
   "cell_type": "code",
   "execution_count": 50,
   "metadata": {},
   "outputs": [],
   "source": [
    "#city column\n",
    "doc_test['city'] = doc_test['city'].apply(lambda x: re.sub(' +','',str(x)))"
   ]
  },
  {
   "cell_type": "code",
   "execution_count": 51,
   "metadata": {},
   "outputs": [],
   "source": [
    "#Encode City and Profile\n",
    "\n",
    "doc_test = pd.get_dummies(doc_test, columns=['city','Profile'], prefix=['City','Profile'])\n"
   ]
  },
  {
   "cell_type": "code",
   "execution_count": 52,
   "metadata": {},
   "outputs": [],
   "source": [
    "#drop Miscellaneous_Info and location\n",
    "doc_test.drop(['Miscellaneous_Info','location'], axis=1, inplace=True)\n"
   ]
  },
  {
   "cell_type": "code",
   "execution_count": 123,
   "metadata": {},
   "outputs": [
    {
     "data": {
      "text/plain": [
       "mbbs                         2\n",
       "bhms                         2\n",
       "bams                         2\n",
       "ddvl                         2\n",
       "dlo                          2\n",
       "mlo                          1\n",
       "dnb                          2\n",
       "bds                          2\n",
       "md                           2\n",
       "ms                           2\n",
       "fellowship                   2\n",
       "Experience                  64\n",
       "Rating                       9\n",
       "Fees                        40\n",
       "City_Bangalore               2\n",
       "City_Chennai                 2\n",
       "City_Coimbatore              2\n",
       "City_Delhi                   2\n",
       "City_Ernakulam               2\n",
       "City_Hyderabad               2\n",
       "City_Mumbai                  2\n",
       "City_Thiruvananthapuram      2\n",
       "City_none                    2\n",
       "Profile_Ayurveda             2\n",
       "Profile_Dentist              2\n",
       "Profile_Dermatologists       2\n",
       "Profile_ENT Specialist       2\n",
       "Profile_General Medicine     2\n",
       "Profile_Homeopath            2\n",
       "dtype: int64"
      ]
     },
     "execution_count": 123,
     "metadata": {},
     "output_type": "execute_result"
    }
   ],
   "source": [
    "doc_train.nunique()"
   ]
  },
  {
   "cell_type": "markdown",
   "metadata": {},
   "source": [
    "### Feature Scaling"
   ]
  },
  {
   "cell_type": "code",
   "execution_count": 75,
   "metadata": {},
   "outputs": [],
   "source": [
    "X = doc_train.drop('Fees',axis=1)\n",
    "\n",
    "Y = doc_train['Fees']"
   ]
  },
  {
   "cell_type": "code",
   "execution_count": 109,
   "metadata": {},
   "outputs": [],
   "source": [
    "from sklearn.preprocessing import StandardScaler\n",
    "scale = StandardScaler()\n",
    "X = scale.fit_transform(X)"
   ]
  },
  {
   "cell_type": "code",
   "execution_count": 110,
   "metadata": {},
   "outputs": [],
   "source": [
    "from sklearn.model_selection import train_test_split\n",
    "\n",
    "\n",
    "X_train, X_test, y_train, y_test = train_test_split(X,Y,test_size=0.3,random_state=0)"
   ]
  },
  {
   "cell_type": "code",
   "execution_count": 111,
   "metadata": {},
   "outputs": [
    {
     "data": {
      "text/plain": [
       "((4172, 28), (1789, 28), (4172,), (1789,))"
      ]
     },
     "execution_count": 111,
     "metadata": {},
     "output_type": "execute_result"
    }
   ],
   "source": [
    "X_train.shape, X_test.shape, y_train.shape, y_test.shape"
   ]
  },
  {
   "cell_type": "code",
   "execution_count": null,
   "metadata": {},
   "outputs": [],
   "source": []
  },
  {
   "cell_type": "code",
   "execution_count": 112,
   "metadata": {},
   "outputs": [
    {
     "data": {
      "text/plain": [
       "((4172, 28), (1789, 28), (4172,), (1789,))"
      ]
     },
     "execution_count": 112,
     "metadata": {},
     "output_type": "execute_result"
    }
   ],
   "source": [
    "X_train.shape, X_test.shape,y_train.shape, y_test.shape"
   ]
  },
  {
   "cell_type": "markdown",
   "metadata": {},
   "source": [
    "### Model Building"
   ]
  },
  {
   "cell_type": "code",
   "execution_count": 141,
   "metadata": {},
   "outputs": [],
   "source": [
    "from sklearn.neighbors import KNeighborsRegressor\n",
    "from sklearn.svm import SVR\n",
    "from sklearn.tree import DecisionTreeRegressor\n",
    "from sklearn.ensemble import RandomForestRegressor\n",
    "from sklearn.linear_model import LinearRegression, Ridge, LogisticRegression\n",
    "\n",
    "#from sklearn.ensemble import GradientBoostingRegressor\n",
    "from sklearn.metrics import make_scorer\n",
    "from sklearn.metrics import mean_absolute_error, mean_squared_error, r2_score\n"
   ]
  },
  {
   "cell_type": "code",
   "execution_count": 130,
   "metadata": {},
   "outputs": [],
   "source": [
    "def score(y_pred,y):\n",
    "    y_pred = np.log(y_pred)\n",
    "    y = np.log(y)\n",
    "    return 1 - ((np.sum((y_pred-y)**2))/len(y))**1/2    # 1-RMSLE\n",
    "\n",
    "# make our own scorer\n",
    "scorer = make_scorer(score,greater_is_better=True, needs_proba=False)"
   ]
  },
  {
   "cell_type": "code",
   "execution_count": 172,
   "metadata": {},
   "outputs": [],
   "source": [
    "knn_reg = KNeighborsRegressor()\n",
    "svm_reg = SVR(gamma='scale')\n",
    "dt_reg = DecisionTreeRegressor()\n",
    "rf_reg = RandomForestRegressor()\n",
    "lg_reg = LogisticRegression()\n",
    "\n",
    "model = [knn_reg, svm_reg, dt_reg, rf_reg, lg_reg]"
   ]
  },
  {
   "cell_type": "code",
   "execution_count": 173,
   "metadata": {},
   "outputs": [
    {
     "name": "stdout",
     "output_type": "stream",
     "text": [
      "KNeighborsRegressor(algorithm='auto', leaf_size=30, metric='minkowski',\n",
      "                    metric_params=None, n_jobs=None, n_neighbors=5, p=2,\n",
      "                    weights='uniform') 0.5812271618453946\n",
      "\n",
      "***************************************************************************************\n",
      "\n",
      "SVR(C=1.0, cache_size=200, coef0=0.0, degree=3, epsilon=0.1, gamma='scale',\n",
      "    kernel='rbf', max_iter=-1, shrinking=True, tol=0.001, verbose=False) 0.7614954539957495\n",
      "\n",
      "***************************************************************************************\n",
      "\n",
      "DecisionTreeRegressor(ccp_alpha=0.0, criterion='mse', max_depth=None,\n",
      "                      max_features=None, max_leaf_nodes=None,\n",
      "                      min_impurity_decrease=0.0, min_impurity_split=None,\n",
      "                      min_samples_leaf=1, min_samples_split=2,\n",
      "                      min_weight_fraction_leaf=0.0, presort='deprecated',\n",
      "                      random_state=None, splitter='best') 0.5315669392869751\n",
      "\n",
      "***************************************************************************************\n",
      "\n",
      "RandomForestRegressor(bootstrap=True, ccp_alpha=0.0, criterion='mse',\n",
      "                      max_depth=None, max_features='auto', max_leaf_nodes=None,\n",
      "                      max_samples=None, min_impurity_decrease=0.0,\n",
      "                      min_impurity_split=None, min_samples_leaf=1,\n",
      "                      min_samples_split=2, min_weight_fraction_leaf=0.0,\n",
      "                      n_estimators=100, n_jobs=None, oob_score=False,\n",
      "                      random_state=None, verbose=0, warm_start=False) 0.7373507085417221\n",
      "\n",
      "***************************************************************************************\n",
      "\n",
      "LogisticRegression(C=1.0, class_weight=None, dual=False, fit_intercept=True,\n",
      "                   intercept_scaling=1, l1_ratio=None, max_iter=100,\n",
      "                   multi_class='auto', n_jobs=None, penalty='l2',\n",
      "                   random_state=None, solver='lbfgs', tol=0.0001, verbose=0,\n",
      "                   warm_start=False) 0.4409328224939193\n",
      "\n",
      "***************************************************************************************\n",
      "\n"
     ]
    }
   ],
   "source": [
    "for reg in model:\n",
    "    reg.fit(X_train, y_train)\n",
    "    \n",
    "    y_pred = reg.predict(x_test)\n",
    "    \n",
    "    print(reg, score(y_pred,y_test))\n",
    "    print(\"\\n***************************************************************************************\\n\")"
   ]
  },
  {
   "cell_type": "markdown",
   "metadata": {},
   "source": [
    "SVM is giving high score from all of above models. So we will do HyperParameter Tuning for SVM.\n",
    "\n",
    "\n",
    "\n",
    "## HyperParameter Tuning"
   ]
  },
  {
   "cell_type": "code",
   "execution_count": 174,
   "metadata": {},
   "outputs": [],
   "source": [
    "from sklearn.model_selection import GridSearchCV\n",
    "from sklearn.model_selection import RandomizedSearchCV\n"
   ]
  },
  {
   "cell_type": "code",
   "execution_count": 178,
   "metadata": {},
   "outputs": [
    {
     "name": "stdout",
     "output_type": "stream",
     "text": [
      "Fitting 5 folds for each of 18 candidates, totalling 90 fits\n"
     ]
    },
    {
     "name": "stderr",
     "output_type": "stream",
     "text": [
      "[Parallel(n_jobs=-1)]: Using backend LokyBackend with 8 concurrent workers.\n",
      "[Parallel(n_jobs=-1)]: Done  34 tasks      | elapsed:   10.1s\n",
      "[Parallel(n_jobs=-1)]: Done  90 out of  90 | elapsed:   26.3s finished\n"
     ]
    },
    {
     "data": {
      "text/plain": [
       "RandomizedSearchCV(cv=5, error_score=nan,\n",
       "                   estimator=SVR(C=1.0, cache_size=200, coef0=0.0, degree=3,\n",
       "                                 epsilon=0.1, gamma='scale', kernel='rbf',\n",
       "                                 max_iter=-1, shrinking=True, tol=0.001,\n",
       "                                 verbose=False),\n",
       "                   iid='deprecated', n_iter=200, n_jobs=-1,\n",
       "                   param_distributions={'C': [0.1, 1, 10],\n",
       "                                        'gamma': ['scale', 'auto'],\n",
       "                                        'kernel': ['linear', 'poly', 'rbf']},\n",
       "                   pre_dispatch='2*n_jobs', random_state=42, refit=True,\n",
       "                   return_train_score=False, scoring=make_scorer(score),\n",
       "                   verbose=1)"
      ]
     },
     "execution_count": 178,
     "metadata": {},
     "output_type": "execute_result"
    }
   ],
   "source": [
    "grid = dict(C=[0.1,1,10], kernel=['linear','poly','rbf'], gamma=['scale','auto'])\n",
    "\n",
    "svm_random = RandomizedSearchCV(svm_reg, param_distributions= grid, scoring=scorer, cv=5, random_state=42, n_iter=200, verbose=1, n_jobs=-1)\n",
    "svm_random.fit(X_train,y_train)\n"
   ]
  },
  {
   "cell_type": "code",
   "execution_count": 179,
   "metadata": {},
   "outputs": [
    {
     "name": "stdout",
     "output_type": "stream",
     "text": [
      "Best Score: 0.807466819820867\n",
      "Best Parameters:\n",
      " {'kernel': 'rbf', 'gamma': 'auto', 'C': 10}\n"
     ]
    }
   ],
   "source": [
    "print(\"Best Score:\",svm_random.best_score_)\n",
    "print(\"Best Parameters:\\n\",svm_random.best_params_)"
   ]
  },
  {
   "cell_type": "code",
   "execution_count": 180,
   "metadata": {},
   "outputs": [
    {
     "name": "stdout",
     "output_type": "stream",
     "text": [
      "1-RMSLE: 0.7556898456231949\n"
     ]
    }
   ],
   "source": [
    "# predict the test data from it and see the result\n",
    "predictions = svm_random.predict(x_test)\n",
    "\n",
    "print(\"1-RMSLE:\",score(predictions, y_test))"
   ]
  },
  {
   "cell_type": "markdown",
   "metadata": {},
   "source": [
    "### Serialization"
   ]
  },
  {
   "cell_type": "code",
   "execution_count": 182,
   "metadata": {},
   "outputs": [
    {
     "data": {
      "text/plain": [
       "['Doctors fees SVM.pkl']"
      ]
     },
     "execution_count": 182,
     "metadata": {},
     "output_type": "execute_result"
    }
   ],
   "source": [
    "import joblib\n",
    "joblib.dump(svm_random,\"Doctors fees SVM.pkl\")"
   ]
  },
  {
   "cell_type": "code",
   "execution_count": null,
   "metadata": {},
   "outputs": [],
   "source": []
  },
  {
   "cell_type": "code",
   "execution_count": null,
   "metadata": {},
   "outputs": [],
   "source": []
  }
 ],
 "metadata": {
  "kernelspec": {
   "display_name": "Python 3",
   "language": "python",
   "name": "python3"
  },
  "language_info": {
   "codemirror_mode": {
    "name": "ipython",
    "version": 3
   },
   "file_extension": ".py",
   "mimetype": "text/x-python",
   "name": "python",
   "nbconvert_exporter": "python",
   "pygments_lexer": "ipython3",
   "version": "3.7.6"
  }
 },
 "nbformat": 4,
 "nbformat_minor": 4
}
